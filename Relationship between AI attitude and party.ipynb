{
 "cells": [
  {
   "cell_type": "code",
   "id": "initial_id",
   "metadata": {
    "collapsed": true,
    "ExecuteTime": {
     "end_time": "2025-07-23T01:23:25.769665Z",
     "start_time": "2025-07-23T01:23:25.759614Z"
    }
   },
   "source": [
    "import pandas as pd\n",
    "import numpy as np\n",
    "import matplotlib.pyplot as plt\n",
    "import seaborn as sns\n",
    "\n",
    "df = pd.read_csv('Datav3.csv')"
   ],
   "outputs": [],
   "execution_count": 1
  },
  {
   "metadata": {
    "ExecuteTime": {
     "end_time": "2025-07-23T01:23:25.779776Z",
     "start_time": "2025-07-23T01:23:25.775331Z"
    }
   },
   "cell_type": "code",
   "source": [
    "question_map = {\n",
    "    'Q1': 'gender',\n",
    "    'Q2': 'age',\n",
    "    'Q3': 'ethnic',\n",
    "    'Q4': 'education',\n",
    "    'Q7': 'AI_Support',  # Support for AI\n",
    "    'Q8': 'AI_Trust', # Trust in AI\n",
    "    'Q9': 'AI_Understanding', # Income level\n",
    "    'Q10': 'AI_Impact',  # Perceived impact of AI on society\n",
    "    'Q13': 'AI_Benefit',\n",
    "    'Q14': 'AI_Efficiency',\n",
    "    'Q15': 'AI_Optimism',  # People may be vulnerable to the risks of this technology now, but safety features are improving in ways that reduce their vulnerability\n",
    "    'Q16': 'AI_Risk',\n",
    "    'Q17': 'Transparency_Importance',  # Importance of transparency in AI\n",
    "    'Q18': 'AI_Dependency', # society’s acceptance of it will increase\n",
    "    'Q12': 'FOMO',  # Fear of missing out on AI advancements\n",
    "    'Q19': 'income',\n",
    "    'Q20': 'Party_ID',  # Political party identification\n",
    "    'Q21': 'Ideology',  # Political ideology\n",
    "    'Q22': 'religious',\n",
    "    'Q24': 'State'  # State of residence\n",
    "}\n",
    "df = df.rename(columns=question_map)\n",
    "df = df.dropna()"
   ],
   "id": "d652de2780626ee1",
   "outputs": [],
   "execution_count": 2
  },
  {
   "metadata": {
    "ExecuteTime": {
     "end_time": "2025-07-23T01:23:25.819160Z",
     "start_time": "2025-07-23T01:23:25.816233Z"
    }
   },
   "cell_type": "code",
   "source": [
    "def party_label(code):\n",
    "    if str(code) == '1':\n",
    "        return 'Democrat'\n",
    "    elif str(code) == '2':\n",
    "        return 'Republican'\n",
    "    elif str(code) == '3':\n",
    "        return 'Independent'\n",
    "    else:\n",
    "        return 'Other'\n",
    "\n",
    "df['Party_Label'] = df['Party_ID'].apply(party_label)"
   ],
   "id": "9f1d7dc3a91ec8d8",
   "outputs": [],
   "execution_count": 3
  },
  {
   "metadata": {
    "ExecuteTime": {
     "end_time": "2025-07-23T01:23:25.830983Z",
     "start_time": "2025-07-23T01:23:25.824912Z"
    }
   },
   "cell_type": "code",
   "source": [
    "state_id_map = {\n",
    "    1: 'Alabama', 2: 'Alaska', 3: 'Arizona', 4: 'Arkansas', 5: 'California', 6: 'Colorado',\n",
    "    7: 'Connecticut', 8: 'Delaware', 9: 'Florida', 10: 'Georgia', 11: 'Hawaii', 12: 'Idaho',\n",
    "    13: 'Illinois', 14: 'Indiana', 15: 'Iowa', 16: 'Kansas', 17: 'Kentucky', 18: 'Louisiana',\n",
    "    19: 'Maine', 20: 'Maryland', 21: 'Massachusetts', 22: 'Michigan', 23: 'Minnesota', 24: 'Mississippi',\n",
    "    25: 'Missouri', 26: 'Montana', 27: 'Nebraska', 28: 'Nevada', 29: 'New Hampshire', 30: 'New Jersey',\n",
    "    31: 'New Mexico', 32: 'New York', 33: 'North Carolina', 34: 'North Dakota', 35: 'Ohio', 36: 'Oklahoma',\n",
    "    37: 'Oregon', 38: 'Pennsylvania', 39: 'Rhode Island', 40: 'South Carolina', 41: 'South Dakota',\n",
    "    42: 'Tennessee', 43: 'Texas', 44: 'Utah', 45: 'Vermont', 46: 'Virginia', 47: 'Washington',\n",
    "    48: 'West Virginia', 49: 'Wisconsin', 50: 'Wyoming'\n",
    "}\n",
    "blue_states = ['California', 'New York', 'Illinois', 'New Jersey', 'Massachusetts', 'Maryland',\n",
    "               'Hawaii', 'Connecticut', 'Rhode Island', 'Washington', 'Oregon', 'Vermont', 'Delaware']\n",
    "red_states = ['Alabama', 'Arkansas', 'Idaho', 'Kansas', 'Kentucky', 'Louisiana', 'Mississippi',\n",
    "              'Missouri', 'Montana', 'Nebraska', 'North Dakota', 'Oklahoma', 'South Carolina',\n",
    "              'South Dakota', 'Tennessee', 'Utah', 'West Virginia', 'Wyoming']\n",
    "swing_states = ['Arizona', 'Georgia', 'Michigan', 'Nevada', 'North Carolina', 'Pennsylvania', 'Wisconsin']\n",
    "\n",
    "df['State_Name'] = df['State'].map(state_id_map)\n",
    "df['State_Color'] = df['State_Name'].apply(lambda x:\n",
    "    'Blue' if x in blue_states else 'Red' if x in red_states else 'Swing' if x in swing_states else 'Other')"
   ],
   "id": "6ef2966fa6821393",
   "outputs": [],
   "execution_count": 4
  },
  {
   "metadata": {
    "ExecuteTime": {
     "end_time": "2025-07-23T01:23:25.872442Z",
     "start_time": "2025-07-23T01:23:25.869945Z"
    }
   },
   "cell_type": "code",
   "source": [
    "df['Democrat'] = df['Party_Label'].apply(lambda x: 1 if x == 'Democrat' else 0)\n",
    "df['Republican'] = df['Party_Label'].apply(lambda x: 1 if x == 'Republican' else 0)\n",
    "df['Independent'] = df['Party_Label'].apply(lambda x: 1 if x == 'Independent' else 0)"
   ],
   "id": "c0b8f3257f9eb644",
   "outputs": [],
   "execution_count": 5
  },
  {
   "metadata": {
    "ExecuteTime": {
     "end_time": "2025-07-23T01:23:25.888791Z",
     "start_time": "2025-07-23T01:23:25.879135Z"
    }
   },
   "cell_type": "code",
   "source": [
    "# save the cleaned data\n",
    "df.to_csv('cleaned_data.csv', index=False)"
   ],
   "id": "bfce3960b851e908",
   "outputs": [],
   "execution_count": 6
  },
  {
   "metadata": {
    "ExecuteTime": {
     "end_time": "2025-07-23T01:23:25.914066Z",
     "start_time": "2025-07-23T01:23:25.897011Z"
    }
   },
   "cell_type": "code",
   "source": "df.describe()",
   "id": "e27dbc3a78c55fd4",
   "outputs": [
    {
     "data": {
      "text/plain": [
       "            gender          age      ethnic    education           Q5  \\\n",
       "count  1007.000000  1007.000000  1007.00000  1007.000000  1007.000000   \n",
       "mean      1.512413     4.409136     5.16286     3.635551     1.003972   \n",
       "std       0.504054     1.632010     1.40974     1.448674     0.062931   \n",
       "min       1.000000     1.000000     1.00000     1.000000     1.000000   \n",
       "25%       1.000000     3.000000     4.00000     2.000000     1.000000   \n",
       "50%       2.000000     4.000000     6.00000     3.000000     1.000000   \n",
       "75%       2.000000     6.000000     6.00000     5.000000     1.000000   \n",
       "max       3.000000     7.000000     6.00000     6.000000     2.000000   \n",
       "\n",
       "        AI_Support     AI_Trust  AI_Understanding         FOMO   AI_Benefit  \\\n",
       "count  1007.000000  1007.000000       1007.000000  1007.000000  1007.000000   \n",
       "mean      3.531281     3.377358          3.628600     3.357498     3.649454   \n",
       "std       1.127447     1.151800          1.031847     1.155547     0.974454   \n",
       "min       1.000000     1.000000          1.000000     1.000000     1.000000   \n",
       "25%       3.000000     3.000000          3.000000     3.000000     3.000000   \n",
       "50%       4.000000     4.000000          4.000000     3.000000     4.000000   \n",
       "75%       4.000000     4.000000          4.000000     4.000000     4.000000   \n",
       "max       5.000000     5.000000          5.000000     5.000000     5.000000   \n",
       "\n",
       "       ...  AI_Dependency       income     Party_ID     Ideology    religious  \\\n",
       "count  ...    1007.000000  1007.000000  1007.000000  1007.000000  1007.000000   \n",
       "mean   ...       3.842105     3.565045     2.075472     4.200596     4.323734   \n",
       "std    ...       0.913721     1.513192     1.023707     1.935716     3.414456   \n",
       "min    ...       1.000000     1.000000     1.000000     1.000000     1.000000   \n",
       "25%    ...       3.000000     3.000000     1.000000     3.000000     1.000000   \n",
       "50%    ...       4.000000     3.000000     2.000000     4.000000     3.000000   \n",
       "75%    ...       4.000000     5.000000     3.000000     6.000000     9.000000   \n",
       "max    ...       5.000000     6.000000     5.000000     8.000000    10.000000   \n",
       "\n",
       "              Q23        State     Democrat   Republican  Independent  \n",
       "count  1007.00000  1007.000000  1007.000000  1007.000000  1007.000000  \n",
       "mean      1.85005    24.445879     0.373386     0.268123     0.292949  \n",
       "std       0.35720    14.864558     0.483944     0.443202     0.455342  \n",
       "min       1.00000     1.000000     0.000000     0.000000     0.000000  \n",
       "25%       2.00000     9.000000     0.000000     0.000000     0.000000  \n",
       "50%       2.00000    25.000000     0.000000     0.000000     0.000000  \n",
       "75%       2.00000    38.000000     1.000000     1.000000     1.000000  \n",
       "max       2.00000    50.000000     1.000000     1.000000     1.000000  \n",
       "\n",
       "[8 rows x 24 columns]"
      ],
      "text/html": [
       "<div>\n",
       "<style scoped>\n",
       "    .dataframe tbody tr th:only-of-type {\n",
       "        vertical-align: middle;\n",
       "    }\n",
       "\n",
       "    .dataframe tbody tr th {\n",
       "        vertical-align: top;\n",
       "    }\n",
       "\n",
       "    .dataframe thead th {\n",
       "        text-align: right;\n",
       "    }\n",
       "</style>\n",
       "<table border=\"1\" class=\"dataframe\">\n",
       "  <thead>\n",
       "    <tr style=\"text-align: right;\">\n",
       "      <th></th>\n",
       "      <th>gender</th>\n",
       "      <th>age</th>\n",
       "      <th>ethnic</th>\n",
       "      <th>education</th>\n",
       "      <th>Q5</th>\n",
       "      <th>AI_Support</th>\n",
       "      <th>AI_Trust</th>\n",
       "      <th>AI_Understanding</th>\n",
       "      <th>FOMO</th>\n",
       "      <th>AI_Benefit</th>\n",
       "      <th>...</th>\n",
       "      <th>AI_Dependency</th>\n",
       "      <th>income</th>\n",
       "      <th>Party_ID</th>\n",
       "      <th>Ideology</th>\n",
       "      <th>religious</th>\n",
       "      <th>Q23</th>\n",
       "      <th>State</th>\n",
       "      <th>Democrat</th>\n",
       "      <th>Republican</th>\n",
       "      <th>Independent</th>\n",
       "    </tr>\n",
       "  </thead>\n",
       "  <tbody>\n",
       "    <tr>\n",
       "      <th>count</th>\n",
       "      <td>1007.000000</td>\n",
       "      <td>1007.000000</td>\n",
       "      <td>1007.00000</td>\n",
       "      <td>1007.000000</td>\n",
       "      <td>1007.000000</td>\n",
       "      <td>1007.000000</td>\n",
       "      <td>1007.000000</td>\n",
       "      <td>1007.000000</td>\n",
       "      <td>1007.000000</td>\n",
       "      <td>1007.000000</td>\n",
       "      <td>...</td>\n",
       "      <td>1007.000000</td>\n",
       "      <td>1007.000000</td>\n",
       "      <td>1007.000000</td>\n",
       "      <td>1007.000000</td>\n",
       "      <td>1007.000000</td>\n",
       "      <td>1007.00000</td>\n",
       "      <td>1007.000000</td>\n",
       "      <td>1007.000000</td>\n",
       "      <td>1007.000000</td>\n",
       "      <td>1007.000000</td>\n",
       "    </tr>\n",
       "    <tr>\n",
       "      <th>mean</th>\n",
       "      <td>1.512413</td>\n",
       "      <td>4.409136</td>\n",
       "      <td>5.16286</td>\n",
       "      <td>3.635551</td>\n",
       "      <td>1.003972</td>\n",
       "      <td>3.531281</td>\n",
       "      <td>3.377358</td>\n",
       "      <td>3.628600</td>\n",
       "      <td>3.357498</td>\n",
       "      <td>3.649454</td>\n",
       "      <td>...</td>\n",
       "      <td>3.842105</td>\n",
       "      <td>3.565045</td>\n",
       "      <td>2.075472</td>\n",
       "      <td>4.200596</td>\n",
       "      <td>4.323734</td>\n",
       "      <td>1.85005</td>\n",
       "      <td>24.445879</td>\n",
       "      <td>0.373386</td>\n",
       "      <td>0.268123</td>\n",
       "      <td>0.292949</td>\n",
       "    </tr>\n",
       "    <tr>\n",
       "      <th>std</th>\n",
       "      <td>0.504054</td>\n",
       "      <td>1.632010</td>\n",
       "      <td>1.40974</td>\n",
       "      <td>1.448674</td>\n",
       "      <td>0.062931</td>\n",
       "      <td>1.127447</td>\n",
       "      <td>1.151800</td>\n",
       "      <td>1.031847</td>\n",
       "      <td>1.155547</td>\n",
       "      <td>0.974454</td>\n",
       "      <td>...</td>\n",
       "      <td>0.913721</td>\n",
       "      <td>1.513192</td>\n",
       "      <td>1.023707</td>\n",
       "      <td>1.935716</td>\n",
       "      <td>3.414456</td>\n",
       "      <td>0.35720</td>\n",
       "      <td>14.864558</td>\n",
       "      <td>0.483944</td>\n",
       "      <td>0.443202</td>\n",
       "      <td>0.455342</td>\n",
       "    </tr>\n",
       "    <tr>\n",
       "      <th>min</th>\n",
       "      <td>1.000000</td>\n",
       "      <td>1.000000</td>\n",
       "      <td>1.00000</td>\n",
       "      <td>1.000000</td>\n",
       "      <td>1.000000</td>\n",
       "      <td>1.000000</td>\n",
       "      <td>1.000000</td>\n",
       "      <td>1.000000</td>\n",
       "      <td>1.000000</td>\n",
       "      <td>1.000000</td>\n",
       "      <td>...</td>\n",
       "      <td>1.000000</td>\n",
       "      <td>1.000000</td>\n",
       "      <td>1.000000</td>\n",
       "      <td>1.000000</td>\n",
       "      <td>1.000000</td>\n",
       "      <td>1.00000</td>\n",
       "      <td>1.000000</td>\n",
       "      <td>0.000000</td>\n",
       "      <td>0.000000</td>\n",
       "      <td>0.000000</td>\n",
       "    </tr>\n",
       "    <tr>\n",
       "      <th>25%</th>\n",
       "      <td>1.000000</td>\n",
       "      <td>3.000000</td>\n",
       "      <td>4.00000</td>\n",
       "      <td>2.000000</td>\n",
       "      <td>1.000000</td>\n",
       "      <td>3.000000</td>\n",
       "      <td>3.000000</td>\n",
       "      <td>3.000000</td>\n",
       "      <td>3.000000</td>\n",
       "      <td>3.000000</td>\n",
       "      <td>...</td>\n",
       "      <td>3.000000</td>\n",
       "      <td>3.000000</td>\n",
       "      <td>1.000000</td>\n",
       "      <td>3.000000</td>\n",
       "      <td>1.000000</td>\n",
       "      <td>2.00000</td>\n",
       "      <td>9.000000</td>\n",
       "      <td>0.000000</td>\n",
       "      <td>0.000000</td>\n",
       "      <td>0.000000</td>\n",
       "    </tr>\n",
       "    <tr>\n",
       "      <th>50%</th>\n",
       "      <td>2.000000</td>\n",
       "      <td>4.000000</td>\n",
       "      <td>6.00000</td>\n",
       "      <td>3.000000</td>\n",
       "      <td>1.000000</td>\n",
       "      <td>4.000000</td>\n",
       "      <td>4.000000</td>\n",
       "      <td>4.000000</td>\n",
       "      <td>3.000000</td>\n",
       "      <td>4.000000</td>\n",
       "      <td>...</td>\n",
       "      <td>4.000000</td>\n",
       "      <td>3.000000</td>\n",
       "      <td>2.000000</td>\n",
       "      <td>4.000000</td>\n",
       "      <td>3.000000</td>\n",
       "      <td>2.00000</td>\n",
       "      <td>25.000000</td>\n",
       "      <td>0.000000</td>\n",
       "      <td>0.000000</td>\n",
       "      <td>0.000000</td>\n",
       "    </tr>\n",
       "    <tr>\n",
       "      <th>75%</th>\n",
       "      <td>2.000000</td>\n",
       "      <td>6.000000</td>\n",
       "      <td>6.00000</td>\n",
       "      <td>5.000000</td>\n",
       "      <td>1.000000</td>\n",
       "      <td>4.000000</td>\n",
       "      <td>4.000000</td>\n",
       "      <td>4.000000</td>\n",
       "      <td>4.000000</td>\n",
       "      <td>4.000000</td>\n",
       "      <td>...</td>\n",
       "      <td>4.000000</td>\n",
       "      <td>5.000000</td>\n",
       "      <td>3.000000</td>\n",
       "      <td>6.000000</td>\n",
       "      <td>9.000000</td>\n",
       "      <td>2.00000</td>\n",
       "      <td>38.000000</td>\n",
       "      <td>1.000000</td>\n",
       "      <td>1.000000</td>\n",
       "      <td>1.000000</td>\n",
       "    </tr>\n",
       "    <tr>\n",
       "      <th>max</th>\n",
       "      <td>3.000000</td>\n",
       "      <td>7.000000</td>\n",
       "      <td>6.00000</td>\n",
       "      <td>6.000000</td>\n",
       "      <td>2.000000</td>\n",
       "      <td>5.000000</td>\n",
       "      <td>5.000000</td>\n",
       "      <td>5.000000</td>\n",
       "      <td>5.000000</td>\n",
       "      <td>5.000000</td>\n",
       "      <td>...</td>\n",
       "      <td>5.000000</td>\n",
       "      <td>6.000000</td>\n",
       "      <td>5.000000</td>\n",
       "      <td>8.000000</td>\n",
       "      <td>10.000000</td>\n",
       "      <td>2.00000</td>\n",
       "      <td>50.000000</td>\n",
       "      <td>1.000000</td>\n",
       "      <td>1.000000</td>\n",
       "      <td>1.000000</td>\n",
       "    </tr>\n",
       "  </tbody>\n",
       "</table>\n",
       "<p>8 rows × 24 columns</p>\n",
       "</div>"
      ]
     },
     "execution_count": 7,
     "metadata": {},
     "output_type": "execute_result"
    }
   ],
   "execution_count": 7
  },
  {
   "metadata": {
    "ExecuteTime": {
     "end_time": "2025-07-23T01:23:26.288463Z",
     "start_time": "2025-07-23T01:23:25.966220Z"
    }
   },
   "cell_type": "code",
   "source": [
    "# Relationship between AI Support and Political Party\n",
    "plt.figure(figsize=(8, 5))\n",
    "sns.boxplot(x='Party_Label', y='AI_Support', data=df, palette='Set2')\n",
    "plt.title('AI Support by Political Party')\n",
    "plt.xlabel('Political Party')\n",
    "plt.ylabel('Support for AI (Likert 1–7)')\n",
    "plt.tight_layout()\n",
    "plt.show()"
   ],
   "id": "e95296a7f60b46d9",
   "outputs": [
    {
     "name": "stderr",
     "output_type": "stream",
     "text": [
      "/var/folders/sp/86lyqnpx3hj4kmbg3ll3gyf80000gn/T/ipykernel_48410/567229220.py:3: FutureWarning: \n",
      "\n",
      "Passing `palette` without assigning `hue` is deprecated and will be removed in v0.14.0. Assign the `x` variable to `hue` and set `legend=False` for the same effect.\n",
      "\n",
      "  sns.boxplot(x='Party_Label', y='AI_Support', data=df, palette='Set2')\n"
     ]
    },
    {
     "data": {
      "text/plain": [
       "<Figure size 800x500 with 1 Axes>"
      ],
      "image/png": "[encoded data removed]"
     },
     "metadata": {},
     "output_type": "display_data"
    }
   ],
   "execution_count": 8
  },
  {
   "metadata": {},
   "cell_type": "markdown",
   "source": "#### The boxplot analysis and t-tests revealed significant differences in AI support across political parties. Democrats showed higher support for AI compared to Republicans and Independents",
   "id": "ef4a426f7c8db172"
  },
  {
   "metadata": {
    "ExecuteTime": {
     "end_time": "2025-07-23T01:23:26.435101Z",
     "start_time": "2025-07-23T01:23:26.316727Z"
    }
   },
   "cell_type": "code",
   "source": [
    "# Relationship between AI Trust and Political Party\n",
    "plt.figure(figsize=(8, 5))\n",
    "sns.boxplot(x='Party_Label', y='AI_Trust', data=df, palette='Set2')\n",
    "plt.title('AI Trust by Political Party')\n",
    "plt.xlabel('Political Party')\n",
    "plt.ylabel('Trust in AI')\n",
    "plt.tight_layout()\n",
    "plt.show()"
   ],
   "id": "c3797d0df26c7513",
   "outputs": [
    {
     "name": "stderr",
     "output_type": "stream",
     "text": [
      "/var/folders/sp/86lyqnpx3hj4kmbg3ll3gyf80000gn/T/ipykernel_48410/2358383458.py:3: FutureWarning: \n",
      "\n",
      "Passing `palette` without assigning `hue` is deprecated and will be removed in v0.14.0. Assign the `x` variable to `hue` and set `legend=False` for the same effect.\n",
      "\n",
      "  sns.boxplot(x='Party_Label', y='AI_Trust', data=df, palette='Set2')\n"
     ]
    },
    {
     "data": {
      "text/plain": [
       "<Figure size 800x500 with 1 Axes>"
      ],
      "image/png": "[encoded data removed]"
     },
     "metadata": {},
     "output_type": "display_data"
    }
   ],
   "execution_count": 9
  },
  {
   "metadata": {},
   "cell_type": "markdown",
   "source": "#### Similar to AI support, Democrats exhibited higher trust in AI compared to other political groups.",
   "id": "9eb9d698baae2f63"
  },
  {
   "metadata": {
    "ExecuteTime": {
     "end_time": "2025-07-23T01:23:26.473590Z",
     "start_time": "2025-07-23T01:23:26.460890Z"
    }
   },
   "cell_type": "code",
   "source": [
    "from scipy.stats import ttest_ind\n",
    "\n",
    "dems = df[df['Party_Label'] == 'Democrat']['AI_Support']\n",
    "reps = df[df['Party_Label'] == 'Republican']['AI_Support']\n",
    "inds = df[df['Party_Label'] == 'Independent']['AI_Support']\n",
    "\n",
    "t_stat1, p_val1 = ttest_ind(dems, reps, nan_policy='omit')\n",
    "t_stat2, p_val2 = ttest_ind(dems, inds, nan_policy='omit')\n",
    "t_stat3, p_val3 = ttest_ind(reps, inds, nan_policy='omit')"
   ],
   "id": "5d2044d69284de64",
   "outputs": [],
   "execution_count": 10
  },
  {
   "metadata": {
    "ExecuteTime": {
     "end_time": "2025-07-23T01:23:27.338907Z",
     "start_time": "2025-07-23T01:23:26.502808Z"
    }
   },
   "cell_type": "code",
   "source": [
    "import statsmodels.api as sm\n",
    "from statsmodels.formula.api import ols\n",
    "\n",
    "# ANOVA model 1：AI support ~ party label\n",
    "anova_model_1 = ols('AI_Support ~ Party_Label', data=df).fit()\n",
    "anova_table_1 = sm.stats.anova_lm(anova_model_1, typ=2)\n",
    "print(\"ANOVA results for AI Support by Party Label:\")\n",
    "print(anova_table_1)\n",
    "\n",
    "# ANOVA model 2：AI trust ~ party label\n",
    "anova_model_2 = ols('AI_Trust ~ Party_Label', data=df).fit()\n",
    "anova_table_2 = sm.stats.anova_lm(anova_model_2, typ=2)\n",
    "print(\"ANOVA results for AI Trust by Party Label:\")\n",
    "print(anova_table_2)\n",
    "\n",
    "# ANOVA model 3：AI understanding~ party label\n",
    "anova_model_3 = ols('AI_Understanding ~ Party_Label', data=df).fit()\n",
    "anova_table_3 = sm.stats.anova_lm(anova_model_3, typ=2)\n",
    "print(\"ANOVA results for AI Understanding by Party Label:\")\n",
    "print(anova_table_3)"
   ],
   "id": "f403731b9d07f1ea",
   "outputs": [
    {
     "name": "stdout",
     "output_type": "stream",
     "text": [
      "ANOVA results for AI Support by Party Label:\n",
      "                  sum_sq      df         F    PR(>F)\n",
      "Party_Label    34.953402     3.0  9.395386  0.000004\n",
      "Residual     1243.811246  1003.0       NaN       NaN\n",
      "ANOVA results for AI Trust by Party Label:\n",
      "                  sum_sq      df         F    PR(>F)\n",
      "Party_Label    36.107345     3.0  9.296821  0.000005\n",
      "Residual     1298.496429  1003.0       NaN       NaN\n",
      "ANOVA results for AI Understanding by Party Label:\n",
      "                  sum_sq      df        F    PR(>F)\n",
      "Party_Label    17.446487     3.0  5.53594  0.000904\n",
      "Residual     1053.649839  1003.0      NaN       NaN\n"
     ]
    }
   ],
   "execution_count": 11
  },
  {
   "metadata": {},
   "cell_type": "markdown",
   "source": [
    "#### ANOVA_model_1 results confirmed that political party affiliation significantly influences AI support.\n",
    "#### ANOVA_model_2 results also indicated a significant relationship between political party and AI trust."
   ],
   "id": "a3aab68c0c9db4c2"
  },
  {
   "metadata": {
    "ExecuteTime": {
     "end_time": "2025-07-23T01:23:27.357522Z",
     "start_time": "2025-07-23T01:23:27.346182Z"
    }
   },
   "cell_type": "code",
   "source": [
    "# Regression: AI Support ~  Democrat + Ideology + age + gender + income + religious + education\n",
    "import statsmodels.formula.api as smf\n",
    "support_model_1 = smf.ols('AI_Support ~ Democrat + Ideology + age + gender + income + religious + education', data=df).fit()\n",
    "print(support_model_1.summary())"
   ],
   "id": "6ee57b217b8120bc",
   "outputs": [
    {
     "name": "stdout",
     "output_type": "stream",
     "text": [
      "                            OLS Regression Results                            \n",
      "==============================================================================\n",
      "Dep. Variable:             AI_Support   R-squared:                       0.089\n",
      "Model:                            OLS   Adj. R-squared:                  0.083\n",
      "Method:                 Least Squares   F-statistic:                     14.01\n",
      "Date:                Tue, 22 Jul 2025   Prob (F-statistic):           2.09e-17\n",
      "Time:                        18:23:27   Log-Likelihood:                -1502.0\n",
      "No. Observations:                1007   AIC:                             3020.\n",
      "Df Residuals:                     999   BIC:                             3059.\n",
      "Df Model:                           7                                         \n",
      "Covariance Type:            nonrobust                                         \n",
      "==============================================================================\n",
      "                 coef    std err          t      P>|t|      [0.025      0.975]\n",
      "------------------------------------------------------------------------------\n",
      "Intercept      4.1083      0.222     18.524      0.000       3.673       4.544\n",
      "Democrat       0.2674      0.078      3.419      0.001       0.114       0.421\n",
      "Ideology      -0.0474      0.020     -2.392      0.017      -0.086      -0.009\n",
      "age           -0.1227      0.021     -5.782      0.000      -0.164      -0.081\n",
      "gender        -0.1661      0.069     -2.397      0.017      -0.302      -0.030\n",
      "income         0.0548      0.025      2.150      0.032       0.005       0.105\n",
      "religious     -0.0171      0.010     -1.671      0.095      -0.037       0.003\n",
      "education      0.0531      0.027      1.982      0.048       0.001       0.106\n",
      "==============================================================================\n",
      "Omnibus:                       55.340   Durbin-Watson:                   1.917\n",
      "Prob(Omnibus):                  0.000   Jarque-Bera (JB):               63.667\n",
      "Skew:                          -0.613   Prob(JB):                     1.50e-14\n",
      "Kurtosis:                       2.875   Cond. No.                         62.9\n",
      "==============================================================================\n",
      "\n",
      "Notes:\n",
      "[1] Standard Errors assume that the covariance matrix of the errors is correctly specified.\n"
     ]
    }
   ],
   "execution_count": 12
  },
  {
   "metadata": {
    "ExecuteTime": {
     "end_time": "2025-07-23T01:23:27.382193Z",
     "start_time": "2025-07-23T01:23:27.371884Z"
    }
   },
   "cell_type": "code",
   "source": [
    "# Regression: AI Trust ~ Democrat + Ideology + age + gender + income + religious + education\n",
    "trust_model_2 = smf.ols('AI_Trust ~ Democrat + Ideology + age + gender + income + religious + education', data=df).fit()\n",
    "print(trust_model_2.summary())"
   ],
   "id": "da91d72f646d9c6c",
   "outputs": [
    {
     "name": "stdout",
     "output_type": "stream",
     "text": [
      "                            OLS Regression Results                            \n",
      "==============================================================================\n",
      "Dep. Variable:               AI_Trust   R-squared:                       0.083\n",
      "Model:                            OLS   Adj. R-squared:                  0.077\n",
      "Method:                 Least Squares   F-statistic:                     12.95\n",
      "Date:                Tue, 22 Jul 2025   Prob (F-statistic):           5.11e-16\n",
      "Time:                        18:23:27   Log-Likelihood:                -1526.9\n",
      "No. Observations:                1007   AIC:                             3070.\n",
      "Df Residuals:                     999   BIC:                             3109.\n",
      "Df Model:                           7                                         \n",
      "Covariance Type:            nonrobust                                         \n",
      "==============================================================================\n",
      "                 coef    std err          t      P>|t|      [0.025      0.975]\n",
      "------------------------------------------------------------------------------\n",
      "Intercept      4.0403      0.227     17.772      0.000       3.594       4.486\n",
      "Democrat       0.2880      0.080      3.592      0.000       0.131       0.445\n",
      "Ideology      -0.0428      0.020     -2.106      0.035      -0.083      -0.003\n",
      "age           -0.1223      0.022     -5.623      0.000      -0.165      -0.080\n",
      "gender        -0.1982      0.071     -2.790      0.005      -0.338      -0.059\n",
      "income         0.0480      0.026      1.838      0.066      -0.003       0.099\n",
      "religious     -0.0159      0.010     -1.517      0.130      -0.036       0.005\n",
      "education      0.0401      0.027      1.461      0.144      -0.014       0.094\n",
      "==============================================================================\n",
      "Omnibus:                       40.797   Durbin-Watson:                   1.917\n",
      "Prob(Omnibus):                  0.000   Jarque-Bera (JB):               38.481\n",
      "Skew:                          -0.428   Prob(JB):                     4.40e-09\n",
      "Kurtosis:                       2.572   Cond. No.                         62.9\n",
      "==============================================================================\n",
      "\n",
      "Notes:\n",
      "[1] Standard Errors assume that the covariance matrix of the errors is correctly specified.\n"
     ]
    }
   ],
   "execution_count": 13
  },
  {
   "metadata": {
    "ExecuteTime": {
     "end_time": "2025-07-23T01:23:27.397639Z",
     "start_time": "2025-07-23T01:23:27.387523Z"
    }
   },
   "cell_type": "code",
   "source": [
    "# Regression: AI Understanding ~ Democrat + Ideology + age + gender + income + religious + education\n",
    "understanding_model_2 = smf.ols('AI_Understanding ~ Democrat + Ideology + age + gender + income + religious + education', data=df).fit()\n",
    "print(understanding_model_2.summary())"
   ],
   "id": "48e4b5558a5a8a03",
   "outputs": [
    {
     "name": "stdout",
     "output_type": "stream",
     "text": [
      "                            OLS Regression Results                            \n",
      "==============================================================================\n",
      "Dep. Variable:       AI_Understanding   R-squared:                       0.110\n",
      "Model:                            OLS   Adj. R-squared:                  0.104\n",
      "Method:                 Least Squares   F-statistic:                     17.68\n",
      "Date:                Tue, 22 Jul 2025   Prob (F-statistic):           3.26e-22\n",
      "Time:                        18:23:27   Log-Likelihood:                -1401.1\n",
      "No. Observations:                1007   AIC:                             2818.\n",
      "Df Residuals:                     999   BIC:                             2858.\n",
      "Df Model:                           7                                         \n",
      "Covariance Type:            nonrobust                                         \n",
      "==============================================================================\n",
      "                 coef    std err          t      P>|t|      [0.025      0.975]\n",
      "------------------------------------------------------------------------------\n",
      "Intercept      4.5464      0.201     22.660      0.000       4.153       4.940\n",
      "Democrat       0.1647      0.071      2.328      0.020       0.026       0.304\n",
      "Ideology      -0.0261      0.018     -1.455      0.146      -0.061       0.009\n",
      "age           -0.1498      0.019     -7.804      0.000      -0.187      -0.112\n",
      "gender        -0.2677      0.063     -4.270      0.000      -0.391      -0.145\n",
      "income         0.0681      0.023      2.955      0.003       0.023       0.113\n",
      "religious     -0.0240      0.009     -2.594      0.010      -0.042      -0.006\n",
      "education      0.0156      0.024      0.643      0.520      -0.032       0.063\n",
      "==============================================================================\n",
      "Omnibus:                       51.384   Durbin-Watson:                   2.084\n",
      "Prob(Omnibus):                  0.000   Jarque-Bera (JB):               58.598\n",
      "Skew:                          -0.591   Prob(JB):                     1.89e-13\n",
      "Kurtosis:                       2.967   Cond. No.                         62.9\n",
      "==============================================================================\n",
      "\n",
      "Notes:\n",
      "[1] Standard Errors assume that the covariance matrix of the errors is correctly specified.\n"
     ]
    }
   ],
   "execution_count": 14
  },
  {
   "metadata": {},
   "cell_type": "markdown",
   "source": [
    "#### Regression models showed that political affiliation (Democrat or Republican), along with factors like ideology, age, gender, income, religious beliefs, and education, significantly predict both AI support and trust.\n",
    "#### But the R² values were relatively low, indicating that these models explain only a small portion of the variance in AI support and trust. So we may need to consider mdeiation analysis to understand the underlying mechanisms."
   ],
   "id": "73f800ceabe25ed1"
  },
  {
   "metadata": {
    "ExecuteTime": {
     "end_time": "2025-07-23T01:23:28.265591Z",
     "start_time": "2025-07-23T01:23:27.405398Z"
    }
   },
   "cell_type": "code",
   "source": [
    "import pingouin as pg\n",
    "\n",
    "results = pg.mediation_analysis(data=df,\n",
    "                                x='Democrat',\n",
    "                                m='AI_Benefit',\n",
    "                                y='AI_Support',\n",
    "                                alpha=0.05,\n",
    "                                n_boot=5000)\n",
    "\n",
    "print(results)\n",
    "\n",
    "outcome_model = smf.ols('AI_Support ~ Democrat + AI_Benefit', data=df).fit()\n",
    "print(\"Outcome model R²:\", outcome_model.rsquared)"
   ],
   "id": "692d102582c9621d",
   "outputs": [
    {
     "name": "stdout",
     "output_type": "stream",
     "text": [
      "             path      coef        se          pval  CI[2.5%]  CI[97.5%]  sig\n",
      "0  AI_Benefit ~ X  0.287790  0.062864  5.282152e-06  0.164431   0.411150  Yes\n",
      "1  Y ~ AI_Benefit  0.616109  0.030892  7.967872e-75  0.555489   0.676728  Yes\n",
      "2           Total  0.383004  0.072488  1.552650e-07  0.240758   0.525250  Yes\n",
      "3          Direct  0.209983  0.062529  8.140475e-04  0.087281   0.332686  Yes\n",
      "4        Indirect  0.173021  0.038840  0.000000e+00  0.096615   0.251050  Yes\n",
      "Outcome model R²: 0.29151754081757664\n"
     ]
    }
   ],
   "execution_count": 15
  },
  {
   "metadata": {
    "ExecuteTime": {
     "end_time": "2025-07-23T01:23:28.987085Z",
     "start_time": "2025-07-23T01:23:28.274799Z"
    }
   },
   "cell_type": "code",
   "source": [
    "results = pg.mediation_analysis(data=df,\n",
    "                                x='Democrat',\n",
    "                                m='AI_Efficiency',\n",
    "                                y='AI_Support',\n",
    "                                alpha=0.05,\n",
    "                                n_boot=5000)\n",
    "\n",
    "print(results)\n",
    "\n",
    "outcome_model = smf.ols('AI_Support ~ Democrat + AI_Efficiency', data=df).fit()\n",
    "print(\"Outcome model R²:\", outcome_model.rsquared)"
   ],
   "id": "105be7933603764c",
   "outputs": [
    {
     "name": "stdout",
     "output_type": "stream",
     "text": [
      "                path      coef        se          pval  CI[2.5%]  CI[97.5%]  \\\n",
      "0  AI_Efficiency ~ X  0.352838  0.070132  5.775764e-07  0.215216   0.490460   \n",
      "1  Y ~ AI_Efficiency  0.567793  0.027293  3.218371e-80  0.514235   0.621352   \n",
      "2              Total  0.383004  0.072488  1.552650e-07  0.240758   0.525250   \n",
      "3             Direct  0.187265  0.061959  2.571399e-03  0.065681   0.308849   \n",
      "4           Indirect  0.195739  0.040026  0.000000e+00  0.117923   0.274010   \n",
      "\n",
      "   sig  \n",
      "0  Yes  \n",
      "1  Yes  \n",
      "2  Yes  \n",
      "3  Yes  \n",
      "4  Yes  \n",
      "Outcome model R²: 0.30731080127090904\n"
     ]
    }
   ],
   "execution_count": 16
  },
  {
   "metadata": {
    "ExecuteTime": {
     "end_time": "2025-07-23T01:23:29.685878Z",
     "start_time": "2025-07-23T01:23:28.999306Z"
    }
   },
   "cell_type": "code",
   "source": [
    "results = pg.mediation_analysis(data=df,\n",
    "                                x='Democrat',\n",
    "                                m='AI_Risk',\n",
    "                                y='AI_Support',\n",
    "                                alpha=0.05,\n",
    "                                n_boot=5000)\n",
    "\n",
    "print(results)\n",
    "\n",
    "outcome_model = smf.ols('AI_Support ~ Democrat + AI_Risk', data=df).fit()\n",
    "print(\"Outcome model R²:\", outcome_model.rsquared)"
   ],
   "id": "f74479d52ba4da51",
   "outputs": [
    {
     "name": "stdout",
     "output_type": "stream",
     "text": [
      "          path      coef        se          pval  CI[2.5%]  CI[97.5%]  sig\n",
      "0  AI_Risk ~ X  0.193559  0.063825  2.486326e-03  0.068314   0.318804  Yes\n",
      "1  Y ~ AI_Risk  0.424908  0.033579  3.673890e-34  0.359016   0.490800  Yes\n",
      "2        Total  0.383004  0.072488  1.552650e-07  0.240758   0.525250  Yes\n",
      "3       Direct  0.303512  0.067926  8.780522e-06  0.170219   0.436804  Yes\n",
      "4     Indirect  0.079492  0.026699  1.600000e-03  0.030197   0.136576  Yes\n",
      "Outcome model R²: 0.15425093206187102\n"
     ]
    }
   ],
   "execution_count": 17
  },
  {
   "metadata": {
    "ExecuteTime": {
     "end_time": "2025-07-23T01:23:30.382578Z",
     "start_time": "2025-07-23T01:23:29.694645Z"
    }
   },
   "cell_type": "code",
   "source": [
    "results = pg.mediation_analysis(data=df,\n",
    "                                x='Democrat',\n",
    "                                m='AI_Benefit',\n",
    "                                y='AI_Trust',\n",
    "                                alpha=0.05,\n",
    "                                n_boot=5000)\n",
    "print(results)\n",
    "\n",
    "outcome_model = smf.ols('AI_Trust ~ Democrat + AI_Benefit', data=df).fit()\n",
    "print(\"Outcome model R²:\", outcome_model.rsquared)"
   ],
   "id": "e679c8f00ce90cf4",
   "outputs": [
    {
     "name": "stdout",
     "output_type": "stream",
     "text": [
      "             path      coef        se          pval  CI[2.5%]  CI[97.5%]  sig\n",
      "0  AI_Benefit ~ X  0.287790  0.062864  5.282152e-06  0.164431   0.411150  Yes\n",
      "1  Y ~ AI_Benefit  0.614711  0.031846  7.316604e-71  0.552219   0.677204  Yes\n",
      "2           Total  0.390962  0.074056  1.589149e-07  0.245640   0.536283  Yes\n",
      "3          Direct  0.218517  0.064454  7.253571e-04  0.092038   0.344997  Yes\n",
      "4        Indirect  0.172444  0.039035  0.000000e+00  0.096946   0.248949  Yes\n",
      "Outcome model R²: 0.2787221118202633\n"
     ]
    }
   ],
   "execution_count": 18
  },
  {
   "metadata": {
    "ExecuteTime": {
     "end_time": "2025-07-23T01:44:27.866450Z",
     "start_time": "2025-07-23T01:44:27.181027Z"
    }
   },
   "cell_type": "code",
   "source": [
    "results = pg.mediation_analysis(data=df,\n",
    "                                x='Democrat',\n",
    "                                m='AI_Efficiency',\n",
    "                                y='AI_Trust',\n",
    "                                alpha=0.05,\n",
    "                                n_boot=5000)\n",
    "print(results)\n",
    "\n",
    "outcome_model = smf.ols('AI_Trust ~ Democrat + AI_Efficiency', data=df).fit()\n",
    "print(\"Outcome model R²:\", outcome_model.rsquared)"
   ],
   "id": "e44d3b4da73bfd8f",
   "outputs": [
    {
     "name": "stdout",
     "output_type": "stream",
     "text": [
      "                path      coef        se          pval  CI[2.5%]  CI[97.5%]  \\\n",
      "0  AI_Efficiency ~ X  0.352838  0.070132  5.775764e-07  0.215216   0.490460   \n",
      "1  Y ~ AI_Efficiency  0.577041  0.027945  3.037734e-79  0.522204   0.631879   \n",
      "2              Total  0.390962  0.074056  1.589149e-07  0.245640   0.536283   \n",
      "3             Direct  0.192078  0.063438  2.526092e-03  0.067593   0.316564   \n",
      "4           Indirect  0.198884  0.040668  0.000000e+00  0.119207   0.279664   \n",
      "\n",
      "   sig  \n",
      "0  Yes  \n",
      "1  Yes  \n",
      "2  Yes  \n",
      "3  Yes  \n",
      "4  Yes  \n",
      "Outcome model R²: 0.3042391404497149\n"
     ]
    }
   ],
   "execution_count": 22
  },
  {
   "metadata": {
    "ExecuteTime": {
     "end_time": "2025-07-23T01:44:33.695616Z",
     "start_time": "2025-07-23T01:44:32.974344Z"
    }
   },
   "cell_type": "code",
   "source": [
    "results = pg.mediation_analysis(data=df,\n",
    "                                x='Democrat',\n",
    "                                m='AI_Risk',\n",
    "                                y='AI_Trust',\n",
    "                                alpha=0.05,\n",
    "                                n_boot=5000)\n",
    "print(results)\n",
    "\n",
    "outcome_model = smf.ols('AI_Trust ~ Democrat + AI_Risk', data=df).fit()\n",
    "print(\"Outcome model R²:\", outcome_model.rsquared)"
   ],
   "id": "9e6a54a1d8caa432",
   "outputs": [
    {
     "name": "stdout",
     "output_type": "stream",
     "text": [
      "          path      coef        se          pval  CI[2.5%]  CI[97.5%]  sig\n",
      "0  AI_Risk ~ X  0.193559  0.063825  2.486326e-03  0.068314   0.318804  Yes\n",
      "1  Y ~ AI_Risk  0.415953  0.034527  2.566419e-31  0.348200   0.483706  Yes\n",
      "2        Total  0.390962  0.074056  1.589149e-07  0.245640   0.536283  Yes\n",
      "3       Direct  0.313291  0.069838  8.096518e-06  0.176246   0.450337  Yes\n",
      "4     Indirect  0.077670  0.026986  4.800000e-03  0.026299   0.132403  Yes\n",
      "Outcome model R²: 0.1433603011776987\n"
     ]
    }
   ],
   "execution_count": 23
  },
  {
   "metadata": {
    "ExecuteTime": {
     "end_time": "2025-07-23T01:45:31.680729Z",
     "start_time": "2025-07-23T01:45:30.984012Z"
    }
   },
   "cell_type": "code",
   "source": [
    "results = pg.mediation_analysis(data=df,\n",
    "                                x='Democrat',\n",
    "                                m='AI_Benefit',\n",
    "                                y='AI_Understanding',\n",
    "                                alpha=0.05,\n",
    "                                n_boot=5000)\n",
    "print(results)\n",
    "\n",
    "outcome_model = smf.ols('AI_Understanding ~ Democrat + AI_Benefit', data=df).fit()\n",
    "print(\"Outcome model R²:\", outcome_model.rsquared)"
   ],
   "id": "80c2c03354a346f9",
   "outputs": [
    {
     "name": "stdout",
     "output_type": "stream",
     "text": [
      "             path      coef        se          pval  CI[2.5%]  CI[97.5%]  sig\n",
      "0  AI_Benefit ~ X  0.287790  0.062864  5.282152e-06  0.164431   0.411150  Yes\n",
      "1  Y ~ AI_Benefit  0.346394  0.031564  1.521845e-26  0.284455   0.408334  Yes\n",
      "2           Total  0.236184  0.066843  4.289021e-04  0.105016   0.367352  Yes\n",
      "3          Direct  0.139341  0.064097  2.994513e-02  0.013562   0.265121  Yes\n",
      "4        Indirect  0.096843  0.023220  0.000000e+00  0.054952   0.145395  Yes\n",
      "Outcome model R²: 0.11119588646987533\n"
     ]
    }
   ],
   "execution_count": 24
  },
  {
   "metadata": {
    "ExecuteTime": {
     "end_time": "2025-07-23T01:45:34.030274Z",
     "start_time": "2025-07-23T01:45:33.331821Z"
    }
   },
   "cell_type": "code",
   "source": [
    "results = pg.mediation_analysis(data=df,\n",
    "                                x='Democrat',\n",
    "                                m='AI_Efficiency',\n",
    "                                y='AI_Understanding',\n",
    "                                alpha=0.05,\n",
    "                                n_boot=5000)\n",
    "print(results)\n",
    "\n",
    "outcome_model = smf.ols('AI_Understanding ~ Democrat + AI_Efficiency', data=df).fit()\n",
    "print(\"Outcome model R²:\", outcome_model.rsquared)"
   ],
   "id": "e4134213c5409cdc",
   "outputs": [
    {
     "name": "stdout",
     "output_type": "stream",
     "text": [
      "                path      coef        se          pval  CI[2.5%]  CI[97.5%]  \\\n",
      "0  AI_Efficiency ~ X  0.352838  0.070132  5.775764e-07  0.215216   0.490460   \n",
      "1  Y ~ AI_Efficiency  0.331490  0.027987  2.176860e-30  0.276569   0.386410   \n",
      "2              Total  0.236184  0.066843  4.289021e-04  0.105016   0.367352   \n",
      "3             Direct  0.122224  0.063707  5.532617e-02 -0.002790   0.247238   \n",
      "4           Indirect  0.113960  0.024237  0.000000e+00  0.067938   0.163211   \n",
      "\n",
      "   sig  \n",
      "0  Yes  \n",
      "1  Yes  \n",
      "2  Yes  \n",
      "3   No  \n",
      "4  Yes  \n",
      "Outcome model R²: 0.12569530432491616\n"
     ]
    }
   ],
   "execution_count": 25
  },
  {
   "metadata": {
    "ExecuteTime": {
     "end_time": "2025-07-23T01:45:37.149697Z",
     "start_time": "2025-07-23T01:45:36.466425Z"
    }
   },
   "cell_type": "code",
   "source": [
    "results = pg.mediation_analysis(data=df,\n",
    "                                x='Democrat',\n",
    "                                m='AI_Risk',\n",
    "                                y='AI_Understanding',\n",
    "                                alpha=0.05,\n",
    "                                n_boot=5000)\n",
    "print(results)\n",
    "\n",
    "outcome_model = smf.ols('AI_Understanding ~ Democrat + AI_Risk', data=df).fit()\n",
    "print(\"Outcome model R²:\", outcome_model.rsquared)"
   ],
   "id": "942217db771e88dd",
   "outputs": [
    {
     "name": "stdout",
     "output_type": "stream",
     "text": [
      "          path      coef        se          pval  CI[2.5%]  CI[97.5%]  sig\n",
      "0  AI_Risk ~ X  0.193559  0.063825  2.486326e-03  0.068314   0.318804  Yes\n",
      "1  Y ~ AI_Risk  0.297965  0.031726  3.832591e-20  0.235707   0.360222  Yes\n",
      "2        Total  0.236184  0.066843  4.289021e-04  0.105016   0.367352  Yes\n",
      "3       Direct  0.180144  0.064563  5.367642e-03  0.053449   0.306838  Yes\n",
      "4     Indirect  0.056040  0.020516  4.000000e-03  0.020108   0.099693  Yes\n",
      "Outcome model R²: 0.08775823267947924\n"
     ]
    }
   ],
   "execution_count": 26
  },
  {
   "metadata": {},
   "cell_type": "code",
   "outputs": [],
   "execution_count": null,
   "source": "",
   "id": "c55d2efc976ecfda"
  },
  {
   "metadata": {},
   "cell_type": "code",
   "outputs": [],
   "execution_count": null,
   "source": "",
   "id": "d04669ff8664f21c"
  },
  {
   "metadata": {},
   "cell_type": "markdown",
   "source": [
    "#### Mediation analyses revealed that factors such as perceived AI benefits, efficiency, and risks partially mediate the relationship between political affiliation and AI support/trust.\n",
    "#### For example, Democrats' higher AI support is partially explained by their perception of AI benefits and efficiency.\n",
    "#### And we can see the R² values for the outcome models improved a lot, indicating that these mediators explain more variance in AI support and trust."
   ],
   "id": "808156b9ee172943"
  },
  {
   "metadata": {},
   "cell_type": "markdown",
   "source": [
    "### Main conclusions:\n",
    "#### 1. Political affiliation significantly influences AI support and trust, with Democrats showing higher levels compared to Republicans and Independents.\n",
    "#### 2. Perceptions of AI benefits, risks, and efficiency are important mediators, suggesting that improving public understanding of AI's advantages and addressing concerns about risks could enhance societal acceptance of AI."
   ],
   "id": "595972d88fd65a20"
  },
  {
   "metadata": {
    "ExecuteTime": {
     "end_time": "2025-07-23T01:23:30.392359Z",
     "start_time": "2025-07-23T01:23:30.391275Z"
    }
   },
   "cell_type": "code",
   "source": "",
   "id": "580302f479eafdb0",
   "outputs": [],
   "execution_count": null
  }
 ],
 "metadata": {
  "kernelspec": {
   "display_name": "Python 3",
   "language": "python",
   "name": "python3"
  },
  "language_info": {
   "codemirror_mode": {
    "name": "ipython",
    "version": 2
   },
   "file_extension": ".py",
   "mimetype": "text/x-python",
   "name": "python",
   "nbconvert_exporter": "python",
   "pygments_lexer": "ipython2",
   "version": "2.7.6"
  }
 },
 "nbformat": 4,
 "nbformat_minor": 5
}
