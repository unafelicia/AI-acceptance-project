{
 "cells": [
  {
   "cell_type": "code",
   "id": "initial_id",
   "metadata": {
    "collapsed": true,
    "ExecuteTime": {
     "end_time": "2025-06-27T03:50:44.452034Z",
     "start_time": "2025-06-27T03:50:44.441102Z"
    }
   },
   "source": [
    "import pandas as pd\n",
    "import numpy as np\n",
    "import matplotlib.pyplot as plt\n",
    "import seaborn as sns\n",
    "\n",
    "df = pd.read_csv('Datav3.csv')"
   ],
   "outputs": [],
   "execution_count": 41
  },
  {
   "metadata": {
    "ExecuteTime": {
     "end_time": "2025-06-27T03:50:45.343213Z",
     "start_time": "2025-06-27T03:50:45.339013Z"
    }
   },
   "cell_type": "code",
   "source": [
    "question_map = {\n",
    "    'Q1': 'gender',\n",
    "    'Q2': 'age',\n",
    "    'Q3': 'ethnic',\n",
    "    'Q4': 'education',\n",
    "    'Q7': 'AI_Support',  # Support for AI\n",
    "    'Q8': 'AI_Trust', # Trust in AI\n",
    "    'Q9': 'AI_Understanding', # Income level\n",
    "    'Q10': 'AI_Impact',  # Perceived impact of AI on society\n",
    "    'Q13': 'AI_Benefit',\n",
    "    'Q14': 'AI_Efficiency',\n",
    "    'Q15': 'AI_Optimism',  # People may be vulnerable to the risks of this technology now, but safety features are improving in ways that reduce their vulnerability\n",
    "    'Q16': 'AI_Risk',\n",
    "    'Q17': 'Transparency_Importance',  # Importance of transparency in AI\n",
    "    'Q18': 'AI_Dependency', # society’s acceptance of it will increase\n",
    "    'Q12': 'FOMO',  # Fear of missing out on AI advancements\n",
    "    'Q19': 'income',\n",
    "    'Q20': 'Party_ID',  # Political party identification\n",
    "    'Q21': 'Ideology',  # Political ideology\n",
    "    'Q22': 'religious',\n",
    "    'Q24': 'State'  # State of residence\n",
    "}\n",
    "df = df.rename(columns=question_map)\n",
    "df = df.dropna()"
   ],
   "id": "d652de2780626ee1",
   "outputs": [],
   "execution_count": 42
  },
  {
   "metadata": {
    "ExecuteTime": {
     "end_time": "2025-06-27T03:50:47.203456Z",
     "start_time": "2025-06-27T03:50:47.194255Z"
    }
   },
   "cell_type": "code",
   "source": [
    "def party_label(code):\n",
    "    if str(code) == '1':\n",
    "        return 'Democrat'\n",
    "    elif str(code) == '2':\n",
    "        return 'Republican'\n",
    "    elif str(code) == '3':\n",
    "        return 'Independent'\n",
    "    else:\n",
    "        return 'Other'\n",
    "\n",
    "df['Party_Label'] = df['Party_ID'].apply(party_label)"
   ],
   "id": "9f1d7dc3a91ec8d8",
   "outputs": [],
   "execution_count": 43
  },
  {
   "metadata": {
    "ExecuteTime": {
     "end_time": "2025-06-27T03:50:47.658264Z",
     "start_time": "2025-06-27T03:50:47.650543Z"
    }
   },
   "cell_type": "code",
   "source": [
    "state_id_map = {\n",
    "    1: 'Alabama', 2: 'Alaska', 3: 'Arizona', 4: 'Arkansas', 5: 'California', 6: 'Colorado',\n",
    "    7: 'Connecticut', 8: 'Delaware', 9: 'Florida', 10: 'Georgia', 11: 'Hawaii', 12: 'Idaho',\n",
    "    13: 'Illinois', 14: 'Indiana', 15: 'Iowa', 16: 'Kansas', 17: 'Kentucky', 18: 'Louisiana',\n",
    "    19: 'Maine', 20: 'Maryland', 21: 'Massachusetts', 22: 'Michigan', 23: 'Minnesota', 24: 'Mississippi',\n",
    "    25: 'Missouri', 26: 'Montana', 27: 'Nebraska', 28: 'Nevada', 29: 'New Hampshire', 30: 'New Jersey',\n",
    "    31: 'New Mexico', 32: 'New York', 33: 'North Carolina', 34: 'North Dakota', 35: 'Ohio', 36: 'Oklahoma',\n",
    "    37: 'Oregon', 38: 'Pennsylvania', 39: 'Rhode Island', 40: 'South Carolina', 41: 'South Dakota',\n",
    "    42: 'Tennessee', 43: 'Texas', 44: 'Utah', 45: 'Vermont', 46: 'Virginia', 47: 'Washington',\n",
    "    48: 'West Virginia', 49: 'Wisconsin', 50: 'Wyoming'\n",
    "}\n",
    "blue_states = ['California', 'New York', 'Illinois', 'New Jersey', 'Massachusetts', 'Maryland',\n",
    "               'Hawaii', 'Connecticut', 'Rhode Island', 'Washington', 'Oregon', 'Vermont', 'Delaware']\n",
    "red_states = ['Alabama', 'Arkansas', 'Idaho', 'Kansas', 'Kentucky', 'Louisiana', 'Mississippi',\n",
    "              'Missouri', 'Montana', 'Nebraska', 'North Dakota', 'Oklahoma', 'South Carolina',\n",
    "              'South Dakota', 'Tennessee', 'Utah', 'West Virginia', 'Wyoming']\n",
    "swing_states = ['Arizona', 'Georgia', 'Michigan', 'Nevada', 'North Carolina', 'Pennsylvania', 'Wisconsin']\n",
    "\n",
    "df['State_Name'] = df['State'].map(state_id_map)\n",
    "df['State_Color'] = df['State_Name'].apply(lambda x:\n",
    "    'Blue' if x in blue_states else 'Red' if x in red_states else 'Swing' if x in swing_states else 'Other')"
   ],
   "id": "6ef2966fa6821393",
   "outputs": [],
   "execution_count": 44
  },
  {
   "metadata": {
    "ExecuteTime": {
     "end_time": "2025-06-27T03:50:48.233187Z",
     "start_time": "2025-06-27T03:50:48.228107Z"
    }
   },
   "cell_type": "code",
   "source": [
    "df['Democrat'] = df['Party_Label'].apply(lambda x: 1 if x == 'Democrat' else 0)\n",
    "df['Republican'] = df['Party_Label'].apply(lambda x: 1 if x == 'Republican' else 0)\n",
    "df['Independent'] = df['Party_Label'].apply(lambda x: 1 if x == 'Independent' else 0)"
   ],
   "id": "c0b8f3257f9eb644",
   "outputs": [],
   "execution_count": 45
  },
  {
   "metadata": {
    "ExecuteTime": {
     "end_time": "2025-06-27T03:50:49.051782Z",
     "start_time": "2025-06-27T03:50:49.026265Z"
    }
   },
   "cell_type": "code",
   "source": "df.describe()",
   "id": "e27dbc3a78c55fd4",
   "outputs": [
    {
     "data": {
      "text/plain": [
       "            gender          age      ethnic    education           Q5  \\\n",
       "count  1007.000000  1007.000000  1007.00000  1007.000000  1007.000000   \n",
       "mean      1.512413     4.409136     5.16286     3.635551     1.003972   \n",
       "std       0.504054     1.632010     1.40974     1.448674     0.062931   \n",
       "min       1.000000     1.000000     1.00000     1.000000     1.000000   \n",
       "25%       1.000000     3.000000     4.00000     2.000000     1.000000   \n",
       "50%       2.000000     4.000000     6.00000     3.000000     1.000000   \n",
       "75%       2.000000     6.000000     6.00000     5.000000     1.000000   \n",
       "max       3.000000     7.000000     6.00000     6.000000     2.000000   \n",
       "\n",
       "        AI_Support     AI_Trust  AI_Understanding         FOMO   AI_Benefit  \\\n",
       "count  1007.000000  1007.000000       1007.000000  1007.000000  1007.000000   \n",
       "mean      3.531281     3.377358          3.628600     3.357498     3.649454   \n",
       "std       1.127447     1.151800          1.031847     1.155547     0.974454   \n",
       "min       1.000000     1.000000          1.000000     1.000000     1.000000   \n",
       "25%       3.000000     3.000000          3.000000     3.000000     3.000000   \n",
       "50%       4.000000     4.000000          4.000000     3.000000     4.000000   \n",
       "75%       4.000000     4.000000          4.000000     4.000000     4.000000   \n",
       "max       5.000000     5.000000          5.000000     5.000000     5.000000   \n",
       "\n",
       "       ...  AI_Dependency       income     Party_ID     Ideology    religious  \\\n",
       "count  ...    1007.000000  1007.000000  1007.000000  1007.000000  1007.000000   \n",
       "mean   ...       3.842105     3.565045     2.075472     4.200596     4.323734   \n",
       "std    ...       0.913721     1.513192     1.023707     1.935716     3.414456   \n",
       "min    ...       1.000000     1.000000     1.000000     1.000000     1.000000   \n",
       "25%    ...       3.000000     3.000000     1.000000     3.000000     1.000000   \n",
       "50%    ...       4.000000     3.000000     2.000000     4.000000     3.000000   \n",
       "75%    ...       4.000000     5.000000     3.000000     6.000000     9.000000   \n",
       "max    ...       5.000000     6.000000     5.000000     8.000000    10.000000   \n",
       "\n",
       "              Q23        State     Democrat   Republican  Independent  \n",
       "count  1007.00000  1007.000000  1007.000000  1007.000000  1007.000000  \n",
       "mean      1.85005    24.445879     0.373386     0.268123     0.292949  \n",
       "std       0.35720    14.864558     0.483944     0.443202     0.455342  \n",
       "min       1.00000     1.000000     0.000000     0.000000     0.000000  \n",
       "25%       2.00000     9.000000     0.000000     0.000000     0.000000  \n",
       "50%       2.00000    25.000000     0.000000     0.000000     0.000000  \n",
       "75%       2.00000    38.000000     1.000000     1.000000     1.000000  \n",
       "max       2.00000    50.000000     1.000000     1.000000     1.000000  \n",
       "\n",
       "[8 rows x 24 columns]"
      ],
      "text/html": [
       "<div>\n",
       "<style scoped>\n",
       "    .dataframe tbody tr th:only-of-type {\n",
       "        vertical-align: middle;\n",
       "    }\n",
       "\n",
       "    .dataframe tbody tr th {\n",
       "        vertical-align: top;\n",
       "    }\n",
       "\n",
       "    .dataframe thead th {\n",
       "        text-align: right;\n",
       "    }\n",
       "</style>\n",
       "<table border=\"1\" class=\"dataframe\">\n",
       "  <thead>\n",
       "    <tr style=\"text-align: right;\">\n",
       "      <th></th>\n",
       "      <th>gender</th>\n",
       "      <th>age</th>\n",
       "      <th>ethnic</th>\n",
       "      <th>education</th>\n",
       "      <th>Q5</th>\n",
       "      <th>AI_Support</th>\n",
       "      <th>AI_Trust</th>\n",
       "      <th>AI_Understanding</th>\n",
       "      <th>FOMO</th>\n",
       "      <th>AI_Benefit</th>\n",
       "      <th>...</th>\n",
       "      <th>AI_Dependency</th>\n",
       "      <th>income</th>\n",
       "      <th>Party_ID</th>\n",
       "      <th>Ideology</th>\n",
       "      <th>religious</th>\n",
       "      <th>Q23</th>\n",
       "      <th>State</th>\n",
       "      <th>Democrat</th>\n",
       "      <th>Republican</th>\n",
       "      <th>Independent</th>\n",
       "    </tr>\n",
       "  </thead>\n",
       "  <tbody>\n",
       "    <tr>\n",
       "      <th>count</th>\n",
       "      <td>1007.000000</td>\n",
       "      <td>1007.000000</td>\n",
       "      <td>1007.00000</td>\n",
       "      <td>1007.000000</td>\n",
       "      <td>1007.000000</td>\n",
       "      <td>1007.000000</td>\n",
       "      <td>1007.000000</td>\n",
       "      <td>1007.000000</td>\n",
       "      <td>1007.000000</td>\n",
       "      <td>1007.000000</td>\n",
       "      <td>...</td>\n",
       "      <td>1007.000000</td>\n",
       "      <td>1007.000000</td>\n",
       "      <td>1007.000000</td>\n",
       "      <td>1007.000000</td>\n",
       "      <td>1007.000000</td>\n",
       "      <td>1007.00000</td>\n",
       "      <td>1007.000000</td>\n",
       "      <td>1007.000000</td>\n",
       "      <td>1007.000000</td>\n",
       "      <td>1007.000000</td>\n",
       "    </tr>\n",
       "    <tr>\n",
       "      <th>mean</th>\n",
       "      <td>1.512413</td>\n",
       "      <td>4.409136</td>\n",
       "      <td>5.16286</td>\n",
       "      <td>3.635551</td>\n",
       "      <td>1.003972</td>\n",
       "      <td>3.531281</td>\n",
       "      <td>3.377358</td>\n",
       "      <td>3.628600</td>\n",
       "      <td>3.357498</td>\n",
       "      <td>3.649454</td>\n",
       "      <td>...</td>\n",
       "      <td>3.842105</td>\n",
       "      <td>3.565045</td>\n",
       "      <td>2.075472</td>\n",
       "      <td>4.200596</td>\n",
       "      <td>4.323734</td>\n",
       "      <td>1.85005</td>\n",
       "      <td>24.445879</td>\n",
       "      <td>0.373386</td>\n",
       "      <td>0.268123</td>\n",
       "      <td>0.292949</td>\n",
       "    </tr>\n",
       "    <tr>\n",
       "      <th>std</th>\n",
       "      <td>0.504054</td>\n",
       "      <td>1.632010</td>\n",
       "      <td>1.40974</td>\n",
       "      <td>1.448674</td>\n",
       "      <td>0.062931</td>\n",
       "      <td>1.127447</td>\n",
       "      <td>1.151800</td>\n",
       "      <td>1.031847</td>\n",
       "      <td>1.155547</td>\n",
       "      <td>0.974454</td>\n",
       "      <td>...</td>\n",
       "      <td>0.913721</td>\n",
       "      <td>1.513192</td>\n",
       "      <td>1.023707</td>\n",
       "      <td>1.935716</td>\n",
       "      <td>3.414456</td>\n",
       "      <td>0.35720</td>\n",
       "      <td>14.864558</td>\n",
       "      <td>0.483944</td>\n",
       "      <td>0.443202</td>\n",
       "      <td>0.455342</td>\n",
       "    </tr>\n",
       "    <tr>\n",
       "      <th>min</th>\n",
       "      <td>1.000000</td>\n",
       "      <td>1.000000</td>\n",
       "      <td>1.00000</td>\n",
       "      <td>1.000000</td>\n",
       "      <td>1.000000</td>\n",
       "      <td>1.000000</td>\n",
       "      <td>1.000000</td>\n",
       "      <td>1.000000</td>\n",
       "      <td>1.000000</td>\n",
       "      <td>1.000000</td>\n",
       "      <td>...</td>\n",
       "      <td>1.000000</td>\n",
       "      <td>1.000000</td>\n",
       "      <td>1.000000</td>\n",
       "      <td>1.000000</td>\n",
       "      <td>1.000000</td>\n",
       "      <td>1.00000</td>\n",
       "      <td>1.000000</td>\n",
       "      <td>0.000000</td>\n",
       "      <td>0.000000</td>\n",
       "      <td>0.000000</td>\n",
       "    </tr>\n",
       "    <tr>\n",
       "      <th>25%</th>\n",
       "      <td>1.000000</td>\n",
       "      <td>3.000000</td>\n",
       "      <td>4.00000</td>\n",
       "      <td>2.000000</td>\n",
       "      <td>1.000000</td>\n",
       "      <td>3.000000</td>\n",
       "      <td>3.000000</td>\n",
       "      <td>3.000000</td>\n",
       "      <td>3.000000</td>\n",
       "      <td>3.000000</td>\n",
       "      <td>...</td>\n",
       "      <td>3.000000</td>\n",
       "      <td>3.000000</td>\n",
       "      <td>1.000000</td>\n",
       "      <td>3.000000</td>\n",
       "      <td>1.000000</td>\n",
       "      <td>2.00000</td>\n",
       "      <td>9.000000</td>\n",
       "      <td>0.000000</td>\n",
       "      <td>0.000000</td>\n",
       "      <td>0.000000</td>\n",
       "    </tr>\n",
       "    <tr>\n",
       "      <th>50%</th>\n",
       "      <td>2.000000</td>\n",
       "      <td>4.000000</td>\n",
       "      <td>6.00000</td>\n",
       "      <td>3.000000</td>\n",
       "      <td>1.000000</td>\n",
       "      <td>4.000000</td>\n",
       "      <td>4.000000</td>\n",
       "      <td>4.000000</td>\n",
       "      <td>3.000000</td>\n",
       "      <td>4.000000</td>\n",
       "      <td>...</td>\n",
       "      <td>4.000000</td>\n",
       "      <td>3.000000</td>\n",
       "      <td>2.000000</td>\n",
       "      <td>4.000000</td>\n",
       "      <td>3.000000</td>\n",
       "      <td>2.00000</td>\n",
       "      <td>25.000000</td>\n",
       "      <td>0.000000</td>\n",
       "      <td>0.000000</td>\n",
       "      <td>0.000000</td>\n",
       "    </tr>\n",
       "    <tr>\n",
       "      <th>75%</th>\n",
       "      <td>2.000000</td>\n",
       "      <td>6.000000</td>\n",
       "      <td>6.00000</td>\n",
       "      <td>5.000000</td>\n",
       "      <td>1.000000</td>\n",
       "      <td>4.000000</td>\n",
       "      <td>4.000000</td>\n",
       "      <td>4.000000</td>\n",
       "      <td>4.000000</td>\n",
       "      <td>4.000000</td>\n",
       "      <td>...</td>\n",
       "      <td>4.000000</td>\n",
       "      <td>5.000000</td>\n",
       "      <td>3.000000</td>\n",
       "      <td>6.000000</td>\n",
       "      <td>9.000000</td>\n",
       "      <td>2.00000</td>\n",
       "      <td>38.000000</td>\n",
       "      <td>1.000000</td>\n",
       "      <td>1.000000</td>\n",
       "      <td>1.000000</td>\n",
       "    </tr>\n",
       "    <tr>\n",
       "      <th>max</th>\n",
       "      <td>3.000000</td>\n",
       "      <td>7.000000</td>\n",
       "      <td>6.00000</td>\n",
       "      <td>6.000000</td>\n",
       "      <td>2.000000</td>\n",
       "      <td>5.000000</td>\n",
       "      <td>5.000000</td>\n",
       "      <td>5.000000</td>\n",
       "      <td>5.000000</td>\n",
       "      <td>5.000000</td>\n",
       "      <td>...</td>\n",
       "      <td>5.000000</td>\n",
       "      <td>6.000000</td>\n",
       "      <td>5.000000</td>\n",
       "      <td>8.000000</td>\n",
       "      <td>10.000000</td>\n",
       "      <td>2.00000</td>\n",
       "      <td>50.000000</td>\n",
       "      <td>1.000000</td>\n",
       "      <td>1.000000</td>\n",
       "      <td>1.000000</td>\n",
       "    </tr>\n",
       "  </tbody>\n",
       "</table>\n",
       "<p>8 rows × 24 columns</p>\n",
       "</div>"
      ]
     },
     "execution_count": 46,
     "metadata": {},
     "output_type": "execute_result"
    }
   ],
   "execution_count": 46
  },
  {
   "metadata": {
    "ExecuteTime": {
     "end_time": "2025-06-27T03:51:22.407626Z",
     "start_time": "2025-06-27T03:51:22.189530Z"
    }
   },
   "cell_type": "code",
   "source": [
    "# Relationship between AI Support and Political Party\n",
    "plt.figure(figsize=(8, 5))\n",
    "sns.boxplot(x='Party_Label', y='AI_Support', data=df, palette='Set2')\n",
    "plt.title('AI Support by Political Party')\n",
    "plt.xlabel('Political Party')\n",
    "plt.ylabel('Support for AI (Likert 1–7)')\n",
    "plt.tight_layout()\n",
    "plt.show()"
   ],
   "id": "e95296a7f60b46d9",
   "outputs": [
    {
     "name": "stderr",
     "output_type": "stream",
     "text": [
      "/var/folders/sp/86lyqnpx3hj4kmbg3ll3gyf80000gn/T/ipykernel_65721/567229220.py:3: FutureWarning: \n",
      "\n",
      "Passing `palette` without assigning `hue` is deprecated and will be removed in v0.14.0. Assign the `x` variable to `hue` and set `legend=False` for the same effect.\n",
      "\n",
      "  sns.boxplot(x='Party_Label', y='AI_Support', data=df, palette='Set2')\n"
     ]
    },
    {
     "data": {
      "text/plain": [
       "<Figure size 800x500 with 1 Axes>"
      ],
      "image/png": "[encoded data removed]"
     },
     "metadata": {},
     "output_type": "display_data"
    }
   ],
   "execution_count": 47
  },
  {
   "metadata": {
    "ExecuteTime": {
     "end_time": "2025-06-27T03:51:26.975509Z",
     "start_time": "2025-06-27T03:51:26.847452Z"
    }
   },
   "cell_type": "code",
   "source": [
    "# Relationship between AI Trust and Political Party\n",
    "plt.figure(figsize=(8, 5))\n",
    "sns.boxplot(x='Party_Label', y='AI_Trust', data=df, palette='Set2')\n",
    "plt.title('AI Trust by Political Party')\n",
    "plt.xlabel('Political Party')\n",
    "plt.ylabel('Trust in AI')\n",
    "plt.tight_layout()\n",
    "plt.show()"
   ],
   "id": "c3797d0df26c7513",
   "outputs": [
    {
     "name": "stderr",
     "output_type": "stream",
     "text": [
      "/var/folders/sp/86lyqnpx3hj4kmbg3ll3gyf80000gn/T/ipykernel_65721/2358383458.py:3: FutureWarning: \n",
      "\n",
      "Passing `palette` without assigning `hue` is deprecated and will be removed in v0.14.0. Assign the `x` variable to `hue` and set `legend=False` for the same effect.\n",
      "\n",
      "  sns.boxplot(x='Party_Label', y='AI_Trust', data=df, palette='Set2')\n"
     ]
    },
    {
     "data": {
      "text/plain": [
       "<Figure size 800x500 with 1 Axes>"
      ],
      "image/png": "[encoded data removed]"
     },
     "metadata": {},
     "output_type": "display_data"
    }
   ],
   "execution_count": 48
  },
  {
   "metadata": {
    "ExecuteTime": {
     "end_time": "2025-06-27T03:48:45.828416Z",
     "start_time": "2025-06-27T03:48:45.799946Z"
    }
   },
   "cell_type": "code",
   "source": [
    "from scipy.stats import ttest_ind\n",
    "\n",
    "dems = df[df['Party_Label'] == 'Democrat']['AI_Support']\n",
    "reps = df[df['Party_Label'] == 'Republican']['AI_Support']\n",
    "inds = df[df['Party_Label'] == 'Independent']['AI_Support']\n",
    "\n",
    "t_stat1, p_val1 = ttest_ind(dems, reps, nan_policy='omit')\n",
    "t_stat2, p_val2 = ttest_ind(dems, inds, nan_policy='omit')\n",
    "t_stat3, p_val3 = ttest_ind(reps, inds, nan_policy='omit')"
   ],
   "id": "5d2044d69284de64",
   "outputs": [],
   "execution_count": 27
  },
  {
   "metadata": {
    "ExecuteTime": {
     "end_time": "2025-06-27T03:58:42.370041Z",
     "start_time": "2025-06-27T03:58:42.308094Z"
    }
   },
   "cell_type": "code",
   "source": [
    "import statsmodels.api as sm\n",
    "from statsmodels.formula.api import ols\n",
    "\n",
    "# ANOVA model 1：AI support ~ party label\n",
    "anova_model_1 = ols('AI_Support ~ Party_Label', data=df).fit()\n",
    "anova_table_1 = sm.stats.anova_lm(anova_model_1, typ=2)\n",
    "print(\"ANOVA results for AI Support by Party Label:\")\n",
    "print(anova_table_1)\n",
    "\n",
    "# ANOVA model 2：AI trust ~ party label\n",
    "anova_model_2 = ols('AI_Trust ~ Party_Label', data=df).fit()\n",
    "anova_table_2 = sm.stats.anova_lm(anova_model_2, typ=2)\n",
    "print(\"ANOVA results for AI Trust by Party Label:\")\n",
    "print(anova_table_2)"
   ],
   "id": "f403731b9d07f1ea",
   "outputs": [
    {
     "name": "stdout",
     "output_type": "stream",
     "text": [
      "ANOVA results for AI Support by Party Label:\n",
      "                  sum_sq      df         F    PR(>F)\n",
      "Party_Label    34.953402     3.0  9.395386  0.000004\n",
      "Residual     1243.811246  1003.0       NaN       NaN\n",
      "ANOVA results for AI Trust by Party Label:\n",
      "                  sum_sq      df         F    PR(>F)\n",
      "Party_Label    36.107345     3.0  9.296821  0.000005\n",
      "Residual     1298.496429  1003.0       NaN       NaN\n"
     ]
    }
   ],
   "execution_count": 53
  },
  {
   "metadata": {
    "ExecuteTime": {
     "end_time": "2025-06-27T04:03:28.151835Z",
     "start_time": "2025-06-27T04:03:28.123680Z"
    }
   },
   "cell_type": "code",
   "source": [
    "# Regression: AI Support ~  Democrat + Ideology + age + gender + income + religious + education\n",
    "import statsmodels.formula.api as smf\n",
    "support_model_1 = smf.ols('AI_Support ~ Democrat + Ideology + age + gender + income + religious + education', data=df).fit()\n",
    "print(support_model_1.summary())"
   ],
   "id": "6ee57b217b8120bc",
   "outputs": [
    {
     "name": "stdout",
     "output_type": "stream",
     "text": [
      "                            OLS Regression Results                            \n",
      "==============================================================================\n",
      "Dep. Variable:             AI_Support   R-squared:                       0.089\n",
      "Model:                            OLS   Adj. R-squared:                  0.083\n",
      "Method:                 Least Squares   F-statistic:                     14.01\n",
      "Date:                Thu, 26 Jun 2025   Prob (F-statistic):           2.09e-17\n",
      "Time:                        21:03:28   Log-Likelihood:                -1502.0\n",
      "No. Observations:                1007   AIC:                             3020.\n",
      "Df Residuals:                     999   BIC:                             3059.\n",
      "Df Model:                           7                                         \n",
      "Covariance Type:            nonrobust                                         \n",
      "==============================================================================\n",
      "                 coef    std err          t      P>|t|      [0.025      0.975]\n",
      "------------------------------------------------------------------------------\n",
      "Intercept      4.1083      0.222     18.524      0.000       3.673       4.544\n",
      "Democrat       0.2674      0.078      3.419      0.001       0.114       0.421\n",
      "Ideology      -0.0474      0.020     -2.392      0.017      -0.086      -0.009\n",
      "age           -0.1227      0.021     -5.782      0.000      -0.164      -0.081\n",
      "gender        -0.1661      0.069     -2.397      0.017      -0.302      -0.030\n",
      "income         0.0548      0.025      2.150      0.032       0.005       0.105\n",
      "religious     -0.0171      0.010     -1.671      0.095      -0.037       0.003\n",
      "education      0.0531      0.027      1.982      0.048       0.001       0.106\n",
      "==============================================================================\n",
      "Omnibus:                       55.340   Durbin-Watson:                   1.917\n",
      "Prob(Omnibus):                  0.000   Jarque-Bera (JB):               63.667\n",
      "Skew:                          -0.613   Prob(JB):                     1.50e-14\n",
      "Kurtosis:                       2.875   Cond. No.                         62.9\n",
      "==============================================================================\n",
      "\n",
      "Notes:\n",
      "[1] Standard Errors assume that the covariance matrix of the errors is correctly specified.\n"
     ]
    }
   ],
   "execution_count": 60
  },
  {
   "metadata": {
    "ExecuteTime": {
     "end_time": "2025-06-27T04:03:45.317397Z",
     "start_time": "2025-06-27T04:03:45.288377Z"
    }
   },
   "cell_type": "code",
   "source": [
    "# AI Support ~  Republican + Ideology + age + gender + income + religious + education\n",
    "support_model_2 = smf.ols('AI_Support ~ Republican + Ideology + age + gender + income + religious + education', data=df).fit()\n",
    "print(support_model_2.summary())"
   ],
   "id": "7af0e0bdcdc4cc5f",
   "outputs": [
    {
     "name": "stdout",
     "output_type": "stream",
     "text": [
      "                            OLS Regression Results                            \n",
      "==============================================================================\n",
      "Dep. Variable:             AI_Support   R-squared:                       0.084\n",
      "Model:                            OLS   Adj. R-squared:                  0.077\n",
      "Method:                 Least Squares   F-statistic:                     13.05\n",
      "Date:                Thu, 26 Jun 2025   Prob (F-statistic):           3.85e-16\n",
      "Time:                        21:03:45   Log-Likelihood:                -1505.1\n",
      "No. Observations:                1007   AIC:                             3026.\n",
      "Df Residuals:                     999   BIC:                             3066.\n",
      "Df Model:                           7                                         \n",
      "Covariance Type:            nonrobust                                         \n",
      "==============================================================================\n",
      "                 coef    std err          t      P>|t|      [0.025      0.975]\n",
      "------------------------------------------------------------------------------\n",
      "Intercept      4.3723      0.215     20.363      0.000       3.951       4.794\n",
      "Republican    -0.1818      0.078     -2.344      0.019      -0.334      -0.030\n",
      "Ideology      -0.0771      0.018     -4.283      0.000      -0.112      -0.042\n",
      "age           -0.1244      0.021     -5.846      0.000      -0.166      -0.083\n",
      "gender        -0.1621      0.069     -2.333      0.020      -0.298      -0.026\n",
      "income         0.0546      0.026      2.134      0.033       0.004       0.105\n",
      "religious     -0.0161      0.010     -1.562      0.119      -0.036       0.004\n",
      "education      0.0550      0.027      2.049      0.041       0.002       0.108\n",
      "==============================================================================\n",
      "Omnibus:                       58.344   Durbin-Watson:                   1.906\n",
      "Prob(Omnibus):                  0.000   Jarque-Bera (JB):               67.700\n",
      "Skew:                          -0.632   Prob(JB):                     1.99e-15\n",
      "Kurtosis:                       2.879   Cond. No.                         60.6\n",
      "==============================================================================\n",
      "\n",
      "Notes:\n",
      "[1] Standard Errors assume that the covariance matrix of the errors is correctly specified.\n"
     ]
    }
   ],
   "execution_count": 61
  },
  {
   "metadata": {
    "ExecuteTime": {
     "end_time": "2025-06-27T04:04:28.678710Z",
     "start_time": "2025-06-27T04:04:28.646240Z"
    }
   },
   "cell_type": "code",
   "source": [
    "# Regression: AI Trust ~ Democrat + Ideology + age + gender + income + religious + education\n",
    "trust_model_2 = smf.ols('AI_Trust ~ Democrat + Ideology + age + gender + income + religious + education', data=df).fit()\n",
    "print(trust_model_2.summary())"
   ],
   "id": "da91d72f646d9c6c",
   "outputs": [
    {
     "name": "stdout",
     "output_type": "stream",
     "text": [
      "                            OLS Regression Results                            \n",
      "==============================================================================\n",
      "Dep. Variable:               AI_Trust   R-squared:                       0.083\n",
      "Model:                            OLS   Adj. R-squared:                  0.077\n",
      "Method:                 Least Squares   F-statistic:                     12.95\n",
      "Date:                Thu, 26 Jun 2025   Prob (F-statistic):           5.11e-16\n",
      "Time:                        21:04:28   Log-Likelihood:                -1526.9\n",
      "No. Observations:                1007   AIC:                             3070.\n",
      "Df Residuals:                     999   BIC:                             3109.\n",
      "Df Model:                           7                                         \n",
      "Covariance Type:            nonrobust                                         \n",
      "==============================================================================\n",
      "                 coef    std err          t      P>|t|      [0.025      0.975]\n",
      "------------------------------------------------------------------------------\n",
      "Intercept      4.0403      0.227     17.772      0.000       3.594       4.486\n",
      "Democrat       0.2880      0.080      3.592      0.000       0.131       0.445\n",
      "Ideology      -0.0428      0.020     -2.106      0.035      -0.083      -0.003\n",
      "age           -0.1223      0.022     -5.623      0.000      -0.165      -0.080\n",
      "gender        -0.1982      0.071     -2.790      0.005      -0.338      -0.059\n",
      "income         0.0480      0.026      1.838      0.066      -0.003       0.099\n",
      "religious     -0.0159      0.010     -1.517      0.130      -0.036       0.005\n",
      "education      0.0401      0.027      1.461      0.144      -0.014       0.094\n",
      "==============================================================================\n",
      "Omnibus:                       40.797   Durbin-Watson:                   1.917\n",
      "Prob(Omnibus):                  0.000   Jarque-Bera (JB):               38.481\n",
      "Skew:                          -0.428   Prob(JB):                     4.40e-09\n",
      "Kurtosis:                       2.572   Cond. No.                         62.9\n",
      "==============================================================================\n",
      "\n",
      "Notes:\n",
      "[1] Standard Errors assume that the covariance matrix of the errors is correctly specified.\n"
     ]
    }
   ],
   "execution_count": 63
  },
  {
   "metadata": {
    "ExecuteTime": {
     "end_time": "2025-06-27T04:04:29.968557Z",
     "start_time": "2025-06-27T04:04:29.952837Z"
    }
   },
   "cell_type": "code",
   "source": [
    "# AI Trust ~ Republican + Ideology + age + gender + income + religious + education\n",
    "trust_model_2 = smf.ols('AI_Trust ~ Republican + Ideology + age + gender + income + religious + education', data=df).fit()\n",
    "print(trust_model_2.summary())"
   ],
   "id": "60e000b411140fb8",
   "outputs": [
    {
     "name": "stdout",
     "output_type": "stream",
     "text": [
      "                            OLS Regression Results                            \n",
      "==============================================================================\n",
      "Dep. Variable:               AI_Trust   R-squared:                       0.077\n",
      "Model:                            OLS   Adj. R-squared:                  0.071\n",
      "Method:                 Least Squares   F-statistic:                     11.96\n",
      "Date:                Thu, 26 Jun 2025   Prob (F-statistic):           1.03e-14\n",
      "Time:                        21:04:29   Log-Likelihood:                -1530.2\n",
      "No. Observations:                1007   AIC:                             3076.\n",
      "Df Residuals:                     999   BIC:                             3116.\n",
      "Df Model:                           7                                         \n",
      "Covariance Type:            nonrobust                                         \n",
      "==============================================================================\n",
      "                 coef    std err          t      P>|t|      [0.025      0.975]\n",
      "------------------------------------------------------------------------------\n",
      "Intercept      4.3265      0.220     19.655      0.000       3.895       4.758\n",
      "Republican    -0.2025      0.079     -2.547      0.011      -0.358      -0.046\n",
      "Ideology      -0.0747      0.018     -4.053      0.000      -0.111      -0.039\n",
      "age           -0.1241      0.022     -5.691      0.000      -0.167      -0.081\n",
      "gender        -0.1939      0.071     -2.722      0.007      -0.334      -0.054\n",
      "income         0.0477      0.026      1.820      0.069      -0.004       0.099\n",
      "religious     -0.0147      0.011     -1.396      0.163      -0.035       0.006\n",
      "education      0.0422      0.028      1.532      0.126      -0.012       0.096\n",
      "==============================================================================\n",
      "Omnibus:                       43.139   Durbin-Watson:                   1.913\n",
      "Prob(Omnibus):                  0.000   Jarque-Bera (JB):               40.331\n",
      "Skew:                          -0.437   Prob(JB):                     1.75e-09\n",
      "Kurtosis:                       2.556   Cond. No.                         60.6\n",
      "==============================================================================\n",
      "\n",
      "Notes:\n",
      "[1] Standard Errors assume that the covariance matrix of the errors is correctly specified.\n"
     ]
    }
   ],
   "execution_count": 64
  },
  {
   "metadata": {
    "ExecuteTime": {
     "end_time": "2025-06-27T04:13:07.807122Z",
     "start_time": "2025-06-27T04:13:03.429403Z"
    }
   },
   "cell_type": "code",
   "source": "pip install pingouin",
   "id": "2ad5fa92a377cbd7",
   "outputs": [
    {
     "name": "stdout",
     "output_type": "stream",
     "text": [
      "Collecting pingouin\r\n",
      "  Downloading pingouin-0.5.5-py3-none-any.whl.metadata (19 kB)\r\n",
      "Requirement already satisfied: matplotlib in /opt/anaconda3/lib/python3.12/site-packages (from pingouin) (3.8.4)\r\n",
      "Requirement already satisfied: numpy in /opt/anaconda3/lib/python3.12/site-packages (from pingouin) (1.26.4)\r\n",
      "Requirement already satisfied: pandas>=1.5 in /opt/anaconda3/lib/python3.12/site-packages (from pingouin) (2.2.2)\r\n",
      "Collecting pandas-flavor (from pingouin)\r\n",
      "  Downloading pandas_flavor-0.7.0-py3-none-any.whl.metadata (6.7 kB)\r\n",
      "Requirement already satisfied: scikit-learn>=1.2 in /opt/anaconda3/lib/python3.12/site-packages (from pingouin) (1.4.2)\r\n",
      "Requirement already satisfied: scipy in /opt/anaconda3/lib/python3.12/site-packages (from pingouin) (1.13.1)\r\n",
      "Requirement already satisfied: seaborn in /opt/anaconda3/lib/python3.12/site-packages (from pingouin) (0.13.2)\r\n",
      "Requirement already satisfied: statsmodels in /opt/anaconda3/lib/python3.12/site-packages (from pingouin) (0.14.2)\r\n",
      "Requirement already satisfied: tabulate in /opt/anaconda3/lib/python3.12/site-packages (from pingouin) (0.9.0)\r\n",
      "Requirement already satisfied: python-dateutil>=2.8.2 in /opt/anaconda3/lib/python3.12/site-packages (from pandas>=1.5->pingouin) (2.9.0.post0)\r\n",
      "Requirement already satisfied: pytz>=2020.1 in /opt/anaconda3/lib/python3.12/site-packages (from pandas>=1.5->pingouin) (2024.1)\r\n",
      "Requirement already satisfied: tzdata>=2022.7 in /opt/anaconda3/lib/python3.12/site-packages (from pandas>=1.5->pingouin) (2023.3)\r\n",
      "Requirement already satisfied: joblib>=1.2.0 in /opt/anaconda3/lib/python3.12/site-packages (from scikit-learn>=1.2->pingouin) (1.4.2)\r\n",
      "Requirement already satisfied: threadpoolctl>=2.0.0 in /opt/anaconda3/lib/python3.12/site-packages (from scikit-learn>=1.2->pingouin) (2.2.0)\r\n",
      "Requirement already satisfied: contourpy>=1.0.1 in /opt/anaconda3/lib/python3.12/site-packages (from matplotlib->pingouin) (1.2.0)\r\n",
      "Requirement already satisfied: cycler>=0.10 in /opt/anaconda3/lib/python3.12/site-packages (from matplotlib->pingouin) (0.11.0)\r\n",
      "Requirement already satisfied: fonttools>=4.22.0 in /opt/anaconda3/lib/python3.12/site-packages (from matplotlib->pingouin) (4.51.0)\r\n",
      "Requirement already satisfied: kiwisolver>=1.3.1 in /opt/anaconda3/lib/python3.12/site-packages (from matplotlib->pingouin) (1.4.4)\r\n",
      "Requirement already satisfied: packaging>=20.0 in /opt/anaconda3/lib/python3.12/site-packages (from matplotlib->pingouin) (23.2)\r\n",
      "Requirement already satisfied: pillow>=8 in /opt/anaconda3/lib/python3.12/site-packages (from matplotlib->pingouin) (10.3.0)\r\n",
      "Requirement already satisfied: pyparsing>=2.3.1 in /opt/anaconda3/lib/python3.12/site-packages (from matplotlib->pingouin) (3.0.9)\r\n",
      "Requirement already satisfied: xarray in /opt/anaconda3/lib/python3.12/site-packages (from pandas-flavor->pingouin) (2023.6.0)\r\n",
      "Requirement already satisfied: patsy>=0.5.6 in /opt/anaconda3/lib/python3.12/site-packages (from statsmodels->pingouin) (0.5.6)\r\n",
      "Requirement already satisfied: six in /opt/anaconda3/lib/python3.12/site-packages (from patsy>=0.5.6->statsmodels->pingouin) (1.16.0)\r\n",
      "Downloading pingouin-0.5.5-py3-none-any.whl (204 kB)\r\n",
      "\u001B[2K   \u001B[90m━━━━━━━━━━━━━━━━━━━━━━━━━━━━━━━━━━━━━━━━\u001B[0m \u001B[32m204.4/204.4 kB\u001B[0m \u001B[31m2.2 MB/s\u001B[0m eta \u001B[36m0:00:00\u001B[0ma \u001B[36m0:00:01\u001B[0m\r\n",
      "\u001B[?25hDownloading pandas_flavor-0.7.0-py3-none-any.whl (8.4 kB)\r\n",
      "Installing collected packages: pandas-flavor, pingouin\r\n",
      "Successfully installed pandas-flavor-0.7.0 pingouin-0.5.5\r\n",
      "Note: you may need to restart the kernel to use updated packages.\n"
     ]
    }
   ],
   "execution_count": 73
  },
  {
   "metadata": {
    "ExecuteTime": {
     "end_time": "2025-06-27T04:38:11.107418Z",
     "start_time": "2025-06-27T04:38:09.871580Z"
    }
   },
   "cell_type": "code",
   "source": [
    "import pingouin as pg\n",
    "\n",
    "results = pg.mediation_analysis(data=df,\n",
    "                                x='Democrat',\n",
    "                                m='AI_Benefit',\n",
    "                                y='AI_Support',\n",
    "                                alpha=0.05,\n",
    "                                n_boot=5000)\n",
    "\n",
    "print(results)\n",
    "\n",
    "outcome_model = smf.ols('AI_Support ~ Democrat + AI_Benefit', data=df).fit()\n",
    "print(\"Outcome model R²:\", outcome_model.rsquared)"
   ],
   "id": "692d102582c9621d",
   "outputs": [
    {
     "name": "stdout",
     "output_type": "stream",
     "text": [
      "             path      coef        se          pval  CI[2.5%]  CI[97.5%]  sig\n",
      "0  AI_Benefit ~ X  0.287790  0.062864  5.282152e-06  0.164431   0.411150  Yes\n",
      "1  Y ~ AI_Benefit  0.616109  0.030892  7.967872e-75  0.555489   0.676728  Yes\n",
      "2           Total  0.383004  0.072488  1.552650e-07  0.240758   0.525250  Yes\n",
      "3          Direct  0.209983  0.062529  8.140475e-04  0.087281   0.332686  Yes\n",
      "4        Indirect  0.173021  0.038939  0.000000e+00  0.097994   0.250642  Yes\n",
      "Outcome model R²: 0.29151754081757664\n"
     ]
    }
   ],
   "execution_count": 77
  },
  {
   "metadata": {
    "ExecuteTime": {
     "end_time": "2025-06-27T04:38:51.374611Z",
     "start_time": "2025-06-27T04:38:49.989200Z"
    }
   },
   "cell_type": "code",
   "source": [
    "results = pg.mediation_analysis(data=df,\n",
    "                                x='Democrat',\n",
    "                                m='AI_Efficiency',\n",
    "                                y='AI_Support',\n",
    "                                alpha=0.05,\n",
    "                                n_boot=5000)\n",
    "\n",
    "print(results)\n",
    "\n",
    "outcome_model = smf.ols('AI_Support ~ Democrat + AI_Efficiency', data=df).fit()\n",
    "print(\"Outcome model R²:\", outcome_model.rsquared)"
   ],
   "id": "105be7933603764c",
   "outputs": [
    {
     "name": "stdout",
     "output_type": "stream",
     "text": [
      "                path      coef        se          pval  CI[2.5%]  CI[97.5%]  \\\n",
      "0  AI_Efficiency ~ X  0.352838  0.070132  5.775764e-07  0.215216   0.490460   \n",
      "1  Y ~ AI_Efficiency  0.567793  0.027293  3.218371e-80  0.514235   0.621352   \n",
      "2              Total  0.383004  0.072488  1.552650e-07  0.240758   0.525250   \n",
      "3             Direct  0.187265  0.061959  2.571399e-03  0.065681   0.308849   \n",
      "4           Indirect  0.195739  0.038914  0.000000e+00  0.123251   0.275092   \n",
      "\n",
      "   sig  \n",
      "0  Yes  \n",
      "1  Yes  \n",
      "2  Yes  \n",
      "3  Yes  \n",
      "4  Yes  \n",
      "Outcome model R²: 0.30731080127090904\n"
     ]
    }
   ],
   "execution_count": 78
  },
  {
   "metadata": {
    "ExecuteTime": {
     "end_time": "2025-06-27T04:43:50.584111Z",
     "start_time": "2025-06-27T04:43:49.329512Z"
    }
   },
   "cell_type": "code",
   "source": [
    "results = pg.mediation_analysis(data=df,\n",
    "                                x='Democrat',\n",
    "                                m='AI_Risk',\n",
    "                                y='AI_Support',\n",
    "                                alpha=0.05,\n",
    "                                n_boot=5000)\n",
    "\n",
    "print(results)\n",
    "\n",
    "outcome_model = smf.ols('AI_Support ~ Democrat + AI_Risk', data=df).fit()\n",
    "print(\"Outcome model R²:\", outcome_model.rsquared)"
   ],
   "id": "f74479d52ba4da51",
   "outputs": [
    {
     "name": "stdout",
     "output_type": "stream",
     "text": [
      "          path      coef        se          pval  CI[2.5%]  CI[97.5%]  sig\n",
      "0  AI_Risk ~ X  0.193559  0.063825  2.486326e-03  0.068314   0.318804  Yes\n",
      "1  Y ~ AI_Risk  0.424908  0.033579  3.673890e-34  0.359016   0.490800  Yes\n",
      "2        Total  0.383004  0.072488  1.552650e-07  0.240758   0.525250  Yes\n",
      "3       Direct  0.303512  0.067926  8.780522e-06  0.170219   0.436804  Yes\n",
      "4     Indirect  0.079492  0.027398  2.800000e-03  0.028436   0.137118  Yes\n",
      "Outcome model R²: 0.15425093206187102\n"
     ]
    }
   ],
   "execution_count": 84
  },
  {
   "metadata": {},
   "cell_type": "code",
   "outputs": [],
   "execution_count": null,
   "source": "",
   "id": "c16ccce6aa65460b"
  },
  {
   "metadata": {},
   "cell_type": "code",
   "outputs": [],
   "execution_count": null,
   "source": "",
   "id": "a8e30d0fbefcdd10"
  },
  {
   "metadata": {},
   "cell_type": "code",
   "outputs": [],
   "execution_count": null,
   "source": "",
   "id": "ddc88c04b0ddb13f"
  },
  {
   "metadata": {
    "ExecuteTime": {
     "end_time": "2025-06-27T03:25:45.105178Z",
     "start_time": "2025-06-26T23:46:53.702135Z"
    }
   },
   "cell_type": "code",
   "source": "",
   "id": "9d985bf175d0ea79",
   "outputs": [],
   "execution_count": null
  },
  {
   "metadata": {
    "ExecuteTime": {
     "end_time": "2025-06-27T03:25:45.106197Z",
     "start_time": "2025-06-26T23:46:56.024977Z"
    }
   },
   "cell_type": "code",
   "source": [
    "import statsmodels.formula.api as smf\n",
    "\n",
    "df_subset['Democrat'] = df_subset['Party_Label'].apply(lambda x: 1 if x == 'Democrat' else 0)\n",
    "\n",
    "# regression model: explain AI Support\n",
    "model = smf.ols('AI_Support ~ Democrat + Ideology + AI_Utility + AI_Substitution + Tech_Efficacy', data=df_subset).fit()\n",
    "\n",
    "print(model.summary())"
   ],
   "id": "2415f32928247a89",
   "outputs": [
    {
     "name": "stdout",
     "output_type": "stream",
     "text": [
      "                            OLS Regression Results                            \n",
      "==============================================================================\n",
      "Dep. Variable:             AI_Support   R-squared:                       0.393\n",
      "Model:                            OLS   Adj. R-squared:                  0.390\n",
      "Method:                 Least Squares   F-statistic:                     127.7\n",
      "Date:                Thu, 26 Jun 2025   Prob (F-statistic):          2.14e-104\n",
      "Time:                        16:46:56   Log-Likelihood:                -1278.9\n",
      "No. Observations:                 994   AIC:                             2570.\n",
      "Df Residuals:                     988   BIC:                             2599.\n",
      "Df Model:                           5                                         \n",
      "Covariance Type:            nonrobust                                         \n",
      "===================================================================================\n",
      "                      coef    std err          t      P>|t|      [0.025      0.975]\n",
      "-----------------------------------------------------------------------------------\n",
      "Intercept           0.6377      0.156      4.091      0.000       0.332       0.944\n",
      "Democrat            0.0919      0.065      1.419      0.156      -0.035       0.219\n",
      "Ideology           -0.0302      0.016     -1.873      0.061      -0.062       0.001\n",
      "AI_Utility          0.3262      0.036      9.128      0.000       0.256       0.396\n",
      "AI_Substitution     0.3321      0.032     10.407      0.000       0.269       0.395\n",
      "Tech_Efficacy       0.1680      0.031      5.441      0.000       0.107       0.229\n",
      "==============================================================================\n",
      "Omnibus:                       68.964   Durbin-Watson:                   1.831\n",
      "Prob(Omnibus):                  0.000   Jarque-Bera (JB):               85.537\n",
      "Skew:                          -0.628   Prob(JB):                     2.67e-19\n",
      "Kurtosis:                       3.698   Cond. No.                         44.0\n",
      "==============================================================================\n",
      "\n",
      "Notes:\n",
      "[1] Standard Errors assume that the covariance matrix of the errors is correctly specified.\n"
     ]
    }
   ],
   "execution_count": 96
  },
  {
   "metadata": {
    "ExecuteTime": {
     "end_time": "2025-06-27T03:25:45.112694Z",
     "start_time": "2025-06-26T23:47:03.266809Z"
    }
   },
   "cell_type": "code",
   "source": [
    "# regression model: explain AI Trust\n",
    "model = smf.ols('AI_Trust ~ Democrat + Ideology + AI_Utility + AI_Substitution + Tech_Efficacy', data=df_subset).fit()\n",
    "\n",
    "print(model.summary())"
   ],
   "id": "fc96463dcd5c8cb5",
   "outputs": [
    {
     "name": "stdout",
     "output_type": "stream",
     "text": [
      "                            OLS Regression Results                            \n",
      "==============================================================================\n",
      "Dep. Variable:               AI_Trust   R-squared:                       0.378\n",
      "Model:                            OLS   Adj. R-squared:                  0.375\n",
      "Method:                 Least Squares   F-statistic:                     120.0\n",
      "Date:                Thu, 26 Jun 2025   Prob (F-statistic):           3.09e-99\n",
      "Time:                        16:47:03   Log-Likelihood:                -1311.3\n",
      "No. Observations:                 994   AIC:                             2635.\n",
      "Df Residuals:                     988   BIC:                             2664.\n",
      "Df Model:                           5                                         \n",
      "Covariance Type:            nonrobust                                         \n",
      "===================================================================================\n",
      "                      coef    std err          t      P>|t|      [0.025      0.975]\n",
      "-----------------------------------------------------------------------------------\n",
      "Intercept           0.4845      0.161      3.008      0.003       0.168       0.800\n",
      "Democrat            0.0996      0.067      1.488      0.137      -0.032       0.231\n",
      "Ideology           -0.0267      0.017     -1.602      0.109      -0.059       0.006\n",
      "AI_Utility          0.3164      0.037      8.568      0.000       0.244       0.389\n",
      "AI_Substitution     0.3491      0.033     10.588      0.000       0.284       0.414\n",
      "Tech_Efficacy       0.1562      0.032      4.896      0.000       0.094       0.219\n",
      "==============================================================================\n",
      "Omnibus:                       47.560   Durbin-Watson:                   1.843\n",
      "Prob(Omnibus):                  0.000   Jarque-Bera (JB):               53.800\n",
      "Skew:                          -0.530   Prob(JB):                     2.08e-12\n",
      "Kurtosis:                       3.420   Cond. No.                         44.0\n",
      "==============================================================================\n",
      "\n",
      "Notes:\n",
      "[1] Standard Errors assume that the covariance matrix of the errors is correctly specified.\n"
     ]
    }
   ],
   "execution_count": 97
  },
  {
   "metadata": {
    "ExecuteTime": {
     "end_time": "2025-06-27T03:25:45.117668Z",
     "start_time": "2025-06-26T23:47:04.197689Z"
    }
   },
   "cell_type": "code",
   "source": [
    "# Relationship between AI Support and State Color\n",
    "plt.figure(figsize=(8, 5))\n",
    "sns.boxplot(x='State_Color', y='AI_Support', data=df_subset, palette='Set2')\n",
    "plt.title('AI Support by State Color')\n",
    "plt.xlabel('State Color')\n",
    "plt.ylabel('Support for AI (Likert 1–7)')\n",
    "plt.tight_layout()\n",
    "plt.show()"
   ],
   "id": "d7489ae8040ba03",
   "outputs": [
    {
     "name": "stderr",
     "output_type": "stream",
     "text": [
      "/var/folders/sp/86lyqnpx3hj4kmbg3ll3gyf80000gn/T/ipykernel_68977/3098132576.py:3: FutureWarning: \n",
      "\n",
      "Passing `palette` without assigning `hue` is deprecated and will be removed in v0.14.0. Assign the `x` variable to `hue` and set `legend=False` for the same effect.\n",
      "\n",
      "  sns.boxplot(x='State_Color', y='AI_Support', data=df_subset, palette='Set2')\n"
     ]
    },
    {
     "data": {
      "text/plain": [
       "<Figure size 800x500 with 1 Axes>"
      ],
      "image/png": "[encoded data removed]"
     },
     "metadata": {},
     "output_type": "display_data"
    }
   ],
   "execution_count": 98
  },
  {
   "metadata": {
    "ExecuteTime": {
     "end_time": "2025-06-27T03:25:45.118353Z",
     "start_time": "2025-06-26T23:47:04.801049Z"
    }
   },
   "cell_type": "code",
   "source": [
    "plt.figure(figsize=(8, 5))\n",
    "sns.boxplot(x='State_Color', y='AI_Trust', data=df, palette='Set2')\n",
    "plt.title('AI Trust by State Color')\n",
    "plt.xlabel('State Color')\n",
    "plt.ylabel('Support for AI (Likert 1–7)')\n",
    "plt.tight_layout()\n",
    "plt.show()"
   ],
   "id": "9dbcb0ba4cae4283",
   "outputs": [
    {
     "name": "stderr",
     "output_type": "stream",
     "text": [
      "/var/folders/sp/86lyqnpx3hj4kmbg3ll3gyf80000gn/T/ipykernel_68977/1125028070.py:2: FutureWarning: \n",
      "\n",
      "Passing `palette` without assigning `hue` is deprecated and will be removed in v0.14.0. Assign the `x` variable to `hue` and set `legend=False` for the same effect.\n",
      "\n",
      "  sns.boxplot(x='State_Color', y='AI_Trust', data=df, palette='Set2')\n"
     ]
    },
    {
     "data": {
      "text/plain": [
       "<Figure size 800x500 with 1 Axes>"
      ],
      "image/png": "[encoded data removed]"
     },
     "metadata": {},
     "output_type": "display_data"
    }
   ],
   "execution_count": 99
  },
  {
   "metadata": {
    "ExecuteTime": {
     "end_time": "2025-06-27T03:25:45.118641Z",
     "start_time": "2025-06-26T23:47:06.876962Z"
    }
   },
   "cell_type": "code",
   "source": [
    "model = smf.ols('AI_Support ~ Democrat * State_Color + Ideology + AI_Utility + Tech_Efficacy', data=df_subset).fit()\n",
    "print(model.summary())"
   ],
   "id": "b21224f824e831d",
   "outputs": [
    {
     "name": "stdout",
     "output_type": "stream",
     "text": [
      "                            OLS Regression Results                            \n",
      "==============================================================================\n",
      "Dep. Variable:             AI_Support   R-squared:                       0.329\n",
      "Model:                            OLS   Adj. R-squared:                  0.322\n",
      "Method:                 Least Squares   F-statistic:                     48.10\n",
      "Date:                Thu, 26 Jun 2025   Prob (F-statistic):           2.74e-78\n",
      "Time:                        16:47:06   Log-Likelihood:                -1328.7\n",
      "No. Observations:                 994   AIC:                             2679.\n",
      "Df Residuals:                     983   BIC:                             2733.\n",
      "Df Model:                          10                                         \n",
      "Covariance Type:            nonrobust                                         \n",
      "=================================================================================================\n",
      "                                    coef    std err          t      P>|t|      [0.025      0.975]\n",
      "-------------------------------------------------------------------------------------------------\n",
      "Intercept                         0.9752      0.172      5.664      0.000       0.637       1.313\n",
      "State_Color[T.Other]             -0.1581      0.096     -1.646      0.100      -0.347       0.030\n",
      "State_Color[T.Red]               -0.0135      0.108     -0.125      0.900      -0.226       0.198\n",
      "State_Color[T.Swing]             -0.0610      0.107     -0.570      0.569      -0.271       0.149\n",
      "Democrat                          0.0594      0.109      0.543      0.587      -0.155       0.274\n",
      "Democrat:State_Color[T.Other]     0.1290      0.159      0.811      0.418      -0.183       0.441\n",
      "Democrat:State_Color[T.Red]       0.0892      0.188      0.474      0.635      -0.280       0.458\n",
      "Democrat:State_Color[T.Swing]     0.0771      0.165      0.467      0.641      -0.247       0.402\n",
      "Ideology                         -0.0352      0.017     -2.057      0.040      -0.069      -0.002\n",
      "AI_Utility                        0.5148      0.033     15.803      0.000       0.451       0.579\n",
      "Tech_Efficacy                     0.2276      0.032      7.083      0.000       0.165       0.291\n",
      "==============================================================================\n",
      "Omnibus:                       51.852   Durbin-Watson:                   1.867\n",
      "Prob(Omnibus):                  0.000   Jarque-Bera (JB):               60.251\n",
      "Skew:                          -0.543   Prob(JB):                     8.25e-14\n",
      "Kurtosis:                       3.524   Cond. No.                         63.5\n",
      "==============================================================================\n",
      "\n",
      "Notes:\n",
      "[1] Standard Errors assume that the covariance matrix of the errors is correctly specified.\n"
     ]
    }
   ],
   "execution_count": 100
  },
  {
   "metadata": {
    "ExecuteTime": {
     "end_time": "2025-06-27T03:25:45.118853Z",
     "start_time": "2025-06-26T23:47:07.660815Z"
    }
   },
   "cell_type": "code",
   "source": "",
   "id": "e679c8f00ce90cf4",
   "outputs": [],
   "execution_count": null
  },
  {
   "metadata": {},
   "cell_type": "code",
   "outputs": [],
   "execution_count": null,
   "source": "",
   "id": "b44821aff223e1c"
  }
 ],
 "metadata": {
  "kernelspec": {
   "display_name": "Python 3",
   "language": "python",
   "name": "python3"
  },
  "language_info": {
   "codemirror_mode": {
    "name": "ipython",
    "version": 2
   },
   "file_extension": ".py",
   "mimetype": "text/x-python",
   "name": "python",
   "nbconvert_exporter": "python",
   "pygments_lexer": "ipython2",
   "version": "2.7.6"
  }
 },
 "nbformat": 4,
 "nbformat_minor": 5
}
